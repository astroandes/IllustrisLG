{
 "cells": [
  {
   "cell_type": "markdown",
   "metadata": {
    "collapsed": true
   },
   "source": [
    "In this notebook we take the Illustris-1 simulation volume to find Local Group candidates.\n",
    "\n",
    "Usually these candidates are found using the dark matter information. \n",
    "In this notebook we take a different approach by selecting them based on the baryonic information.\n",
    "\n",
    "Our candidates are thus pairs selected based on the stellar masses.\n",
    "\n",
    "1. They are composed by two dark galaxies $G_A$ and $G_B$.\n",
    "2. $G_A$ and $G_B$ belong to the set of dark matter halos $S_{1}$; $S_{1}$ contains all subhalos with stellar mass content  $2.6\\times 10^{10}$ M$_{\\odot}<M_s < 1.2\\times 10^{11}$ M$_{\\odot}$ (http://adsabs.harvard.edu//abs/2013AAS...22125411L, http://arxiv.org/abs/1410.0017)\n",
    "3. The distance between $H_A$ and $H_B$ is less than 1.3 Mpc.\n",
    "4. The relative physical velocity (i.e. after taking into account the Hubble flow) is less than $150 \\mathrm{km/s}$\n",
    "5. $H_A$ and $H_B$ are mutually its nearest halos in the set $S_{1}$.\n",
    "6. There are not any halos more massive than $5\\times 10^{12} $ M$_{\\odot}$ within $5 \\mathrm{Mpc}$ of either $H_A$ or $H_B$.\n",
    "7. There are not any halos more massive than $1\\times 10^{14} $ M$_{\\odot}$ within $12 \\mathrm{Mpc}$ of either $H_A$ or $H_B$.\n",
    "\n",
    "We now proceed to build such sample."
   ]
  },
  {
   "cell_type": "code",
   "execution_count": 6,
   "metadata": {
    "collapsed": false
   },
   "outputs": [
    {
     "name": "stdout",
     "output_type": "stream",
     "text": [
      "Populating the interactive namespace from numpy and matplotlib\n"
     ]
    }
   ],
   "source": [
    "%pylab inline\n",
    "import illustris_python as il\n",
    "from sklearn.neighbors import NearestNeighbors"
   ]
  },
  {
   "cell_type": "code",
   "execution_count": 7,
   "metadata": {
    "collapsed": true
   },
   "outputs": [],
   "source": [
    "basePath = '/homecolab/je.forero/data/illustris/illustris-1/'"
   ]
  },
  {
   "cell_type": "code",
   "execution_count": 8,
   "metadata": {
    "collapsed": false
   },
   "outputs": [],
   "source": [
    "halos = il.groupcat.loadHalos(basePath,135)\n",
    "subhalos = il.groupcat.loadSubhalos(basePath,135)"
   ]
  },
  {
   "cell_type": "code",
   "execution_count": 45,
   "metadata": {
    "collapsed": true
   },
   "outputs": [],
   "source": [
    "header = il.groupcat.loadHeader(basePath,135)\n",
    "hubble = 0.7\n",
    "BoxSize = header['BoxSize']/hubble"
   ]
  },
  {
   "cell_type": "code",
   "execution_count": 46,
   "metadata": {
    "collapsed": false
   },
   "outputs": [
    {
     "name": "stdout",
     "output_type": "stream",
     "text": [
      "[u'Group_M_Crit200', u'Group_R_Mean200', u'GroupMass', u'Group_M_Mean200', u'GroupStarMetallicity', u'GroupVel', u'GroupBHMass', u'GroupMassType', u'Group_R_Crit200', u'GroupFirstSub', u'GroupSFR', u'GroupPos', u'Group_M_TopHat200', u'Group_M_Crit500', u'GroupLenType', u'Group_R_Crit500', u'GroupNsubs', u'Group_R_TopHat200', u'GroupGasMetallicity', 'count', u'GroupBHMdot', u'GroupWindMass', u'GroupLen']\n",
      "[u'SubhaloPos', u'SubhaloBHMdot', u'SubhaloVmax', u'SubhaloWindMass', u'SubhaloGasMetallicityMaxRad', u'SubhaloVelDisp', u'SubhaloSFR', u'SubhaloStarMetallicityMaxRad', u'SubhaloLen', u'SubhaloSFRinHalfRad', u'SubhaloStellarPhotometrics', u'SubhaloGasMetallicity', u'SubhaloBHMass', u'SubhaloIDMostbound', u'SubhaloMassType', u'SubhaloStellarPhotometricsMassInRad', u'SubhaloHalfmassRad', u'SubhaloParent', u'SubhaloSpin', u'SubhaloStarMetallicityHalfRad', u'SubhaloVel', u'SubhaloLenType', u'SubhaloGasMetallicitySfrWeighted', u'SubhaloGasMetallicityHalfRad', u'SubhaloMassInRad', u'SubhaloGrNr', u'SubhaloMassInHalfRad', u'SubhaloSFRinRad', u'SubhaloMassInMaxRad', u'SubhaloHalfmassRadType', u'SubhaloMassInMaxRadType', u'SubhaloCM', u'SubhaloStarMetallicity', 'count', u'SubhaloMassInHalfRadType', u'SubhaloMass', u'SubhaloMassInRadType', u'SubhaloVmaxRad', u'SubhaloSFRinMaxRad', u'SubhaloStellarPhotometricsRad', u'SubhaloGasMetallicitySfr']\n"
     ]
    }
   ],
   "source": [
    "print halos.keys()\n",
    "print subhalos.keys()"
   ]
  },
  {
   "cell_type": "code",
   "execution_count": 47,
   "metadata": {
    "collapsed": false
   },
   "outputs": [
    {
     "name": "stdout",
     "output_type": "stream",
     "text": [
      "(4366546,)\n"
     ]
    }
   ],
   "source": [
    "#mases are: Gas, DM, unused, tracers, stars+wind particles, black holes\n",
    "halo_masses = halos['GroupMassType']/hubble\n",
    "subhalo_masses = subhalos['SubhaloMassType']/hubble\n",
    "halo_M_crit200 = halos['Group_M_Mean200']/hubble\n",
    "subhalo_stellar_mass = subhalo_masses[:,4]\n",
    "subhalo_vmax = subhalos['SubhaloVmax']\n",
    "print shape(subhalo_vmax)"
   ]
  },
  {
   "cell_type": "code",
   "execution_count": 48,
   "metadata": {
    "collapsed": false
   },
   "outputs": [
    {
     "data": {
      "text/plain": [
       "[<matplotlib.lines.Line2D at 0x7f6b782b4150>]"
      ]
     },
     "execution_count": 48,
     "metadata": {},
     "output_type": "execute_result"
    },
    {
     "data": {
      "image/png": "[encoded data removed]",
      "text/plain": [
       "<matplotlib.figure.Figure at 0x7f6b782fb890>"
      ]
     },
     "metadata": {},
     "output_type": "display_data"
    }
   ],
   "source": [
    "vals, edges = histogram(log10(subhalo_stellar_mass+1E-1), bins=20)\n",
    "plot(edges[1:], log10(vals))"
   ]
  },
  {
   "cell_type": "code",
   "execution_count": 49,
   "metadata": {
    "collapsed": false
   },
   "outputs": [
    {
     "name": "stdout",
     "output_type": "stream",
     "text": [
      "size set S1: 2627 halos\n",
      "size set S2: 696 halos\n",
      "size set S3: 3323 halos\n"
     ]
    }
   ],
   "source": [
    "#selects the indices for two sets:\n",
    "# 1. MW like\n",
    "# 2. massive galaxies above 1E11 Msun in stars\n",
    "# 3. MW like + massive galaxies above 1E11 Msun in stars\n",
    "\n",
    "index_S1 = where((subhalo_stellar_mass>2.6) & (subhalo_stellar_mass<12.0))\n",
    "index_S2 = where(subhalo_stellar_mass>12.0)\n",
    "index_S3 = where(subhalo_stellar_mass>2.6)\n",
    "n_S1 = size(index_S1)\n",
    "n_S2 = size(index_S2)\n",
    "n_S3 = size(index_S3)\n",
    "print(\"size set S1: %d halos\"%(n_S1))\n",
    "print(\"size set S2: %d halos\"%(n_S2))\n",
    "print(\"size set S3: %d halos\"%(n_S3))"
   ]
  },
  {
   "cell_type": "code",
   "execution_count": 50,
   "metadata": {
    "collapsed": false
   },
   "outputs": [
    {
     "data": {
      "text/plain": [
       "<matplotlib.collections.PathCollection at 0x7f6b809150d0>"
      ]
     },
     "execution_count": 50,
     "metadata": {},
     "output_type": "execute_result"
    },
    {
     "data": {
      "image/png": "[encoded data removed]",
      "text/plain": [
       "<matplotlib.figure.Figure at 0x7f6b783af090>"
      ]
     },
     "metadata": {},
     "output_type": "display_data"
    }
   ],
   "source": [
    "scatter(log10(subhalo_stellar_mass[index_S1])+10, subhalo_vmax[index_S1])"
   ]
  },
  {
   "cell_type": "code",
   "execution_count": 51,
   "metadata": {
    "collapsed": false
   },
   "outputs": [],
   "source": [
    "S3_pos = subhalos['SubhaloPos'][index_S3]/hubble\n",
    "S3_vel = subhalos['SubhaloVel'][index_S3]\n",
    "S3_vmax = subhalos['SubhaloVmax'][index_S3]/hubble\n",
    "S3_stellar_mass = subhalo_stellar_mass[index_S3]\n",
    "#https://github.com/forero/IllustrisLG/blob/master/code/LocalGroupSubVolumes.ipynb"
   ]
  },
  {
   "cell_type": "code",
   "execution_count": 54,
   "metadata": {
    "collapsed": false
   },
   "outputs": [],
   "source": [
    "#pad boxes around the S3 positions to mimic periodic boundary conditions\n",
    "S3_pad_pos = S3_pos.copy()\n",
    "S3_pad_vel = S3_vel.copy()\n",
    "S3_pad_vmax = S3_vmax.copy()\n",
    "S3_pad_stellar_mass = S3_stellar_mass.copy()\n",
    "S3_pad_id = arange(n_S3)\n",
    "for i in (0,1,-1):\n",
    "    for j in (0,1,-1):\n",
    "        for k in (0,1,-1):\n",
    "            new_pos = S3_pos.copy()\n",
    "            if(i):\n",
    "                new_pos[:,0] = new_pos[:,0] + i*BoxSize\n",
    "            if(j):\n",
    "                new_pos[:,1] = new_pos[:,1] + j*BoxSize\n",
    "            if(k):\n",
    "                new_pos[:,2] = new_pos[:,2] + k*BoxSize\n",
    "                \n",
    "            if((i!=0) | (j!=0) | (k!=0)):\n",
    "                S3_pad_pos = append(S3_pad_pos, new_pos, axis=0)\n",
    "                S3_pad_vel = append(S3_pad_vel, S3_vel, axis=0)\n",
    "                S3_pad_vmax = append(S3_pad_vmax, S3_vmax, axis=0)\n",
    "                S3_pad_stellar_mass = append(S3_pad_stellar_mass, S3_stellar_mass, axis=0)\n",
    "                S3_pad_ID = append(S3_pad_id, arange(n_S3))"
   ]
  },
  {
   "cell_type": "code",
   "execution_count": 55,
   "metadata": {
    "collapsed": false
   },
   "outputs": [
    {
     "name": "stdout",
     "output_type": "stream",
     "text": [
      "(89721, 3)\n",
      "(89721, 20)\n"
     ]
    }
   ],
   "source": [
    "nbrs_S3 = NearestNeighbors(n_neighbors=20, algorithm='ball_tree').fit(S3_pad_pos)\n",
    "dist_S3, ind_S3 = nbrs_S3.kneighbors(S3_pad_pos)\n",
    "print S3_pad_pos.shape\n",
    "print dist_S3.shape"
   ]
  },
  {
   "cell_type": "code",
   "execution_count": 73,
   "metadata": {
    "collapsed": false
   },
   "outputs": [
    {
     "name": "stdout",
     "output_type": "stream",
     "text": [
      "(89721, 18)\n",
      "45\n"
     ]
    }
   ],
   "source": [
    "neighbor_index = ind_S3[:,1]\n",
    "neighbor_list = ind_S3[:,2:]\n",
    "print shape(neighbor_list)\n",
    "\n",
    "n_pairs = 0\n",
    "\n",
    "halo_A_id = empty((0), dtype=int)\n",
    "halo_B_id = empty((0), dtype=int)\n",
    "\n",
    "for i in range(n_S3):\n",
    "    l = neighbor_index[neighbor_index[i]]% n_S3\n",
    "    j = neighbor_index[i] % n_S3\n",
    "    \n",
    "    other_j = neighbor_list[i,:] % n_S3\n",
    "    other_l = neighbor_list[neighbor_index[i],:] % n_S3\n",
    "    \n",
    "    if((i==l) & (not (j in halo_A_id)) & (not (j in halo_B_id))): # first check to find mutual neighbors\n",
    "        \n",
    "        if((S3_stellar_mass[i]<=12.0) & (S3_stellar_mass[j]<=12.0)): #second check on the masses of the two halos\n",
    "            \n",
    "            if(dist_S3[i,1]<(1300.0)): #third check on the distance between the two halos\n",
    "  \n",
    "                relative_vel = sqrt(sum((S3_pad_vel[i,:] - S3_pad_vel[j, :] + (hubble*100*dist_S3[i,1]/1000))**2))\n",
    "                if(relative_vel<150.0): #check on the relative velocity\n",
    "    \n",
    "                    massive_close_to_i = any((dist_S3[i,2:]<(5000.0)) & (S3_stellar_mass[other_j]>=15.0))\n",
    "                    massive_close_to_j = any((dist_S3[j,2:]<(5000.0)) & (S3_stellar_mass[other_l]>=15.0))\n",
    "                    if((not massive_close_to_i) & (not massive_close_to_j)): #third check on isolation from massive halos\n",
    "                \n",
    "                        virgo_close_to_i = any((dist_S3[i,2:]<(12000.0)) & (S3_stellar_mass[other_j]>=100.0))\n",
    "                        virgo_close_to_j = any((dist_S3[j,2:]<(12000.0)) & (S3_stellar_mass[other_l]>=100.0))\n",
    "                        if((not virgo_close_to_i) & (not virgo_close_to_j)): # fourth check on virgo\n",
    "                            n_pairs = n_pairs+ 1\n",
    "                            halo_A_id = append(halo_A_id, int(i))\n",
    "                            halo_B_id = append(halo_B_id, int(j))\n",
    "print n_pairs"
   ]
  },
  {
   "cell_type": "code",
   "execution_count": 74,
   "metadata": {
    "collapsed": false
   },
   "outputs": [
    {
     "name": "stdout",
     "output_type": "stream",
     "text": [
      "[  175.74117759   324.3517516    324.02357642   272.19361071   238.27537882\n",
      "   123.21734361   308.23720329   153.67968951   216.9621262    800.74458925\n",
      "   835.42376272   619.12183612   171.22881941   243.28602601   814.65029198\n",
      "  1090.11732669   452.21655336   702.98911791   837.23504401   492.0287007\n",
      "   428.31422377   784.46197548   588.74239032   667.45261435  1196.16621112\n",
      "   338.60058004   575.80691949  1075.79146077   539.2269212    864.57767144\n",
      "   871.58135651   981.31046758  1294.98434281  1153.8239358   1297.8786667\n",
      "   590.20520831  1210.78566652   628.86096251   848.85552343   852.56041487\n",
      "   839.1503194    961.08123097  1190.97918174   959.94206121   875.65089592]\n",
      "[ 1111  1114  1171  1277  1279  1304  1352  1355  1362  1364  1375  1389\n",
      "  1428  1447  1467  1477  1481  1529  1551  1609  1666  1679  1683  1794\n",
      "  2427  2130  3156  1703  2293  1674  2730  3194  1753  3026  2862  3288\n",
      "  2610  3057 22118  3094  2698  2600  1839  3202  3277]\n",
      "3323\n"
     ]
    }
   ],
   "source": [
    "print dist_S3[halo_A_id,1]\n",
    "print neighbor_index[halo_A_id]\n",
    "print n_S3"
   ]
  },
  {
   "cell_type": "code",
   "execution_count": 77,
   "metadata": {
    "collapsed": false
   },
   "outputs": [
    {
     "data": {
      "image/png": "[encoded data removed]",
      "text/plain": [
       "<matplotlib.figure.Figure at 0x7f6b80783890>"
      ]
     },
     "metadata": {},
     "output_type": "display_data"
    }
   ],
   "source": [
    "relative_vel = S3_pad_vel[halo_A_id,:] - S3_pad_vel[neighbor_index[halo_A_id], :]\n",
    "norm_relative_vel = sqrt((relative_vel**2).sum(1))\n",
    "a = hist(norm_relative_vel)"
   ]
  },
  {
   "cell_type": "code",
   "execution_count": 78,
   "metadata": {
    "collapsed": false
   },
   "outputs": [
    {
     "data": {
      "image/png": "[encoded data removed]",
      "text/plain": [
       "<matplotlib.figure.Figure at 0x7f6b8066c790>"
      ]
     },
     "metadata": {},
     "output_type": "display_data"
    }
   ],
   "source": [
    "relative_pos = S3_pad_pos[halo_A_id,:] - S3_pad_pos[neighbor_index[halo_A_id], :]\n",
    "norm_relative_pos = sqrt((relative_pos**2).sum(1))\n",
    "a = hist(norm_relative_pos)"
   ]
  },
  {
   "cell_type": "code",
   "execution_count": null,
   "metadata": {
    "collapsed": true
   },
   "outputs": [],
   "source": [
    "relative_pos = S3_pad_pos[halo_A_id,:] - S3_pad_pos[neighbor_index[halo_A_id], :]\n",
    "norm_relative_pos = sqrt((relative_pos**2).sum(1))"
   ]
  }
 ],
 "metadata": {
  "kernelspec": {
   "display_name": "Python 2",
   "language": "python",
   "name": "python2"
  },
  "language_info": {
   "codemirror_mode": {
    "name": "ipython",
    "version": 2
   },
   "file_extension": ".py",
   "mimetype": "text/x-python",
   "name": "python",
   "nbconvert_exporter": "python",
   "pygments_lexer": "ipython2",
   "version": "2.7.10"
  }
 },
 "nbformat": 4,
 "nbformat_minor": 0
}
