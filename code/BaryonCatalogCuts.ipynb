{
 "cells": [
  {
   "cell_type": "code",
   "execution_count": 21,
   "metadata": {
    "collapsed": false
   },
   "outputs": [
    {
     "name": "stdout",
     "output_type": "stream",
     "text": [
      "Populating the interactive namespace from numpy and matplotlib\n"
     ]
    }
   ],
   "source": [
    "%pylab inline\n",
    "import illustris_python as il\n",
    "from sklearn.neighbors import NearestNeighbors"
   ]
  },
  {
   "cell_type": "code",
   "execution_count": 6,
   "metadata": {
    "collapsed": true
   },
   "outputs": [],
   "source": [
    "import illustris_python as il"
   ]
  },
  {
   "cell_type": "code",
   "execution_count": 7,
   "metadata": {
    "collapsed": true
   },
   "outputs": [],
   "source": [
    "basePath = '/homecolab/je.forero/data/illustris/illustris-1/'"
   ]
  },
  {
   "cell_type": "code",
   "execution_count": 8,
   "metadata": {
    "collapsed": false
   },
   "outputs": [],
   "source": [
    "halos = il.groupcat.loadHalos(basePath,135)\n",
    "subhalos = il.groupcat.loadSubhalos(basePath,135)"
   ]
  },
  {
   "cell_type": "code",
   "execution_count": 31,
   "metadata": {
    "collapsed": true
   },
   "outputs": [],
   "source": [
    "hubble = 0.7"
   ]
  },
  {
   "cell_type": "code",
   "execution_count": 32,
   "metadata": {
    "collapsed": false
   },
   "outputs": [
    {
     "name": "stdout",
     "output_type": "stream",
     "text": [
      "[u'Group_M_Crit200', u'Group_R_Mean200', u'GroupMass', u'Group_M_Mean200', u'GroupStarMetallicity', u'GroupVel', u'GroupBHMass', u'GroupMassType', u'Group_R_Crit200', u'GroupFirstSub', u'GroupSFR', u'GroupPos', u'Group_M_TopHat200', u'Group_M_Crit500', u'GroupLenType', u'Group_R_Crit500', u'GroupNsubs', u'Group_R_TopHat200', u'GroupGasMetallicity', 'count', u'GroupBHMdot', u'GroupWindMass', u'GroupLen']\n",
      "[u'SubhaloPos', u'SubhaloBHMdot', u'SubhaloVmax', u'SubhaloWindMass', u'SubhaloGasMetallicityMaxRad', u'SubhaloVelDisp', u'SubhaloSFR', u'SubhaloStarMetallicityMaxRad', u'SubhaloLen', u'SubhaloSFRinHalfRad', u'SubhaloStellarPhotometrics', u'SubhaloGasMetallicity', u'SubhaloBHMass', u'SubhaloIDMostbound', u'SubhaloMassType', u'SubhaloStellarPhotometricsMassInRad', u'SubhaloHalfmassRad', u'SubhaloParent', u'SubhaloSpin', u'SubhaloStarMetallicityHalfRad', u'SubhaloVel', u'SubhaloLenType', u'SubhaloGasMetallicitySfrWeighted', u'SubhaloGasMetallicityHalfRad', u'SubhaloMassInRad', u'SubhaloGrNr', u'SubhaloMassInHalfRad', u'SubhaloSFRinRad', u'SubhaloMassInMaxRad', u'SubhaloHalfmassRadType', u'SubhaloMassInMaxRadType', u'SubhaloCM', u'SubhaloStarMetallicity', 'count', u'SubhaloMassInHalfRadType', u'SubhaloMass', u'SubhaloMassInRadType', u'SubhaloVmaxRad', u'SubhaloSFRinMaxRad', u'SubhaloStellarPhotometricsRad', u'SubhaloGasMetallicitySfr']\n"
     ]
    }
   ],
   "source": [
    "print halos.keys()\n",
    "print subhalos.keys()"
   ]
  },
  {
   "cell_type": "code",
   "execution_count": 33,
   "metadata": {
    "collapsed": false
   },
   "outputs": [
    {
     "name": "stdout",
     "output_type": "stream",
     "text": [
      "(4366546,)\n",
      "3.02388 894.78\n"
     ]
    }
   ],
   "source": [
    "#mases are: Gas, DM, unused, tracers, stars+wind particles, black holes\n",
    "halo_masses = halos['GroupMassType']\n",
    "halo_M_crit200 = halos['Group_M_Mean200']\n",
    "subhalo_vmax = subhalos['SubhaloVmax']\n",
    "print shape(subhalo_vmax)\n",
    "print subhalo_vmax.min(), subhalo_vmax.max()"
   ]
  },
  {
   "cell_type": "code",
   "execution_count": 34,
   "metadata": {
    "collapsed": false
   },
   "outputs": [
    {
     "data": {
      "text/plain": [
       "[<matplotlib.lines.Line2D at 0x7fed5f663790>]"
      ]
     },
     "execution_count": 34,
     "metadata": {},
     "output_type": "execute_result"
    },
    {
     "data": {
      "image/png": "[encoded data removed]",
      "text/plain": [
       "<matplotlib.figure.Figure at 0x7fed6a0e5190>"
      ]
     },
     "metadata": {},
     "output_type": "display_data"
    }
   ],
   "source": [
    "vals, edges = histogram(log10(subhalo_vmax), bins=20)\n",
    "plot(edges[1:], log10(vals))"
   ]
  },
  {
   "cell_type": "code",
   "execution_count": 42,
   "metadata": {
    "collapsed": false
   },
   "outputs": [
    {
     "name": "stdout",
     "output_type": "stream",
     "text": [
      "size set S1: 1422 halos\n",
      "size set S2: 350 halos\n",
      "size set S3: 1772 halos\n"
     ]
    }
   ],
   "source": [
    "#selects the indices for two sets:\n",
    "# 1. MW like\n",
    "# 2. massive galaxies above 300 km/s\n",
    "# 3. MW like + massive galaxies above 300 km/s\n",
    "\n",
    "index_S1 = where((subhalo_vmax>200.0) & (subhalo_vmax<300.0))\n",
    "index_S2 = where(subhalo_vmax>300.0)\n",
    "index_S3 = where(subhalo_vmax>200.0)\n",
    "n_S1 = size(index_S1)\n",
    "n_S2 = size(index_S2)\n",
    "n_S3 = size(index_S3)\n",
    "print(\"size set S1: %d halos\"%(n_S1))\n",
    "print(\"size set S2: %d halos\"%(n_S2))\n",
    "print(\"size set S3: %d halos\"%(n_S3))"
   ]
  },
  {
   "cell_type": "code",
   "execution_count": 43,
   "metadata": {
    "collapsed": false
   },
   "outputs": [],
   "source": [
    "S3_pos = subhalos['SubhaloPos'][index_S3]/hubble\n",
    "S3_vmax = subhalos['SubhaloVmax'][index_S3]/hubble\n",
    "S3_vel = subhalos['SubhaloVel'][index_S3]\n",
    "#https://github.com/forero/IllustrisLG/blob/master/code/LocalGroupSubVolumes.ipynb"
   ]
  }
 ],
 "metadata": {
  "kernelspec": {
   "display_name": "Python 2",
   "language": "python",
   "name": "python2"
  },
  "language_info": {
   "codemirror_mode": {
    "name": "ipython",
    "version": 2
   },
   "file_extension": ".py",
   "mimetype": "text/x-python",
   "name": "python",
   "nbconvert_exporter": "python",
   "pygments_lexer": "ipython2",
   "version": "2.7.10"
  }
 },
 "nbformat": 4,
 "nbformat_minor": 0
}
