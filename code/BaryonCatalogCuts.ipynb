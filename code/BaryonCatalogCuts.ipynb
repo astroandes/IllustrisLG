{
 "cells": [
  {
   "cell_type": "markdown",
   "metadata": {
    "collapsed": true
   },
   "source": [
    "In this notebook we take the Illustris-1 simulation volume to find Local Group candidates.\n",
    "\n",
    "Usually these candidates are found using the dark matter information. \n",
    "In this notebook we take a different approach by selecting them based on the baryonic information.\n",
    "\n",
    "Our candidates are thus pairs selected based on the stellar masses.\n",
    "\n",
    "1. They are composed by two galaxies $G_A$ and $G_B$.\n",
    "2. $G_A$ and $G_B$ belong to the set of dark matter halos $S_{1}$; $S_{1}$ contains all subhalos with stellar mass content  $1.0\\times 10^{10}$ M$_{\\odot}<M_s < 1.0\\times 10^{11}$ M$_{\\odot}$ (http://adsabs.harvard.edu//abs/2013AAS...22125411L, http://arxiv.org/abs/1410.0017)\n",
    "3. The distance between $H_A$ and $H_B$ is less than 1.5 Mpc.\n",
    "4. $H_A$ and $H_B$ are mutually its nearest halos in the set $S_{1}$.\n",
    "5. There are not any subhalos with vmax larger than min(200km/s, Vmax $H_A$, Vmax $H_B$) within $5 \\mathrm{Mpc}$ of either $H_A$ or $H_B$.\n",
    "\n",
    "We now proceed to build such sample."
   ]
  },
  {
   "cell_type": "code",
   "execution_count": 1,
   "metadata": {
    "collapsed": false
   },
   "outputs": [
    {
     "name": "stdout",
     "output_type": "stream",
     "text": [
      "Populating the interactive namespace from numpy and matplotlib\n"
     ]
    }
   ],
   "source": [
    "%pylab inline\n",
    "import illustris_python.groupcat as gc\n",
    "from sklearn.neighbors import NearestNeighbors"
   ]
  },
  {
   "cell_type": "code",
   "execution_count": 2,
   "metadata": {
    "collapsed": true
   },
   "outputs": [],
   "source": [
    "basePath = \"/hpcfs/home/ciencias/fisica/docentes/je.forero/Illustris-1/\""
   ]
  },
  {
   "cell_type": "code",
   "execution_count": 3,
   "metadata": {
    "collapsed": false
   },
   "outputs": [],
   "source": [
    "#halos = gc.loadHalos(basePath,135)\n",
    "#subhalos = gc.loadSubhalos(basePath,135)\n",
    "#header = gc.loadHeader(basePath,135)\n",
    "#BoxSize = header['BoxSize']\n",
    "\n",
    "halo_fields = ['GroupFirstSub', 'Group_M_Crit200', 'Group_R_Crit200', 'Group_M_Mean200',\n",
    "               'GroupNsubs', 'GroupPos', 'GroupVel', 'GroupFirstSub', 'GroupMassType']\n",
    "halos = gc.loadHalos(basePath,135, fields=halo_fields) # the selection is based on the FOF groups\n",
    "\n",
    "subhalo_fields = ['SubhaloMass','SubhaloSFRinRad', 'SubhaloPos', 'SubhaloVmax','SubhaloMassType',\n",
    "                  'SubhaloVel', 'SubhaloParent', 'SubhaloGrNr', 'SubhaloStellarPhotometrics']\n",
    "subhalos = gc.loadSubhalos(basePath,135, fields=subhalo_fields)\n",
    "header = gc.loadHeader(basePath,135)\n",
    "BoxSize = header['BoxSize']"
   ]
  },
  {
   "cell_type": "code",
   "execution_count": 4,
   "metadata": {
    "collapsed": false
   },
   "outputs": [
    {
     "name": "stdout",
     "output_type": "stream",
     "text": [
      "dict_keys(['GroupNsubs', 'Group_M_Mean200', 'GroupVel', 'GroupPos', 'Group_R_Crit200', 'GroupFirstSub', 'Group_M_Crit200', 'GroupMassType', 'count'])\n",
      "dict_keys(['SubhaloVel', 'SubhaloVmax', 'SubhaloPos', 'SubhaloSFRinRad', 'SubhaloMassType', 'SubhaloParent', 'count', 'SubhaloStellarPhotometrics', 'SubhaloGrNr', 'SubhaloMass'])\n"
     ]
    }
   ],
   "source": [
    "print(halos.keys())\n",
    "print(subhalos.keys())"
   ]
  },
  {
   "cell_type": "code",
   "execution_count": 6,
   "metadata": {
    "collapsed": false
   },
   "outputs": [
    {
     "name": "stdout",
     "output_type": "stream",
     "text": [
      "(4366546,)\n"
     ]
    }
   ],
   "source": [
    "#mases are: Gas, DM, unused, tracers, stars+wind particles, black holes\n",
    "halo_masses = halos['GroupMassType']\n",
    "subhalo_masses = subhalos['SubhaloMassType']\n",
    "halo_M_crit200 = halos['Group_M_Mean200']\n",
    "subhalo_pos = subhalos['SubhaloPos']\n",
    "subhalo_stellar_mass = subhalo_masses[:,4]\n",
    "subhalo_mags = subhalos['SubhaloStellarPhotometrics']\n",
    "subhalo_vmax = subhalos['SubhaloVmax']\n",
    "print(shape(subhalo_vmax))"
   ]
  },
  {
   "cell_type": "code",
   "execution_count": 7,
   "metadata": {
    "collapsed": false
   },
   "outputs": [
    {
     "data": {
      "text/plain": [
       "[<matplotlib.lines.Line2D at 0x7f41a1c51e80>]"
      ]
     },
     "execution_count": 7,
     "metadata": {},
     "output_type": "execute_result"
    },
    {
     "data": {
      "image/png": "[encoded data removed]",
      "text/plain": [
       "<matplotlib.figure.Figure at 0x7f419e71c400>"
      ]
     },
     "metadata": {},
     "output_type": "display_data"
    }
   ],
   "source": [
    "vals, edges = histogram(log10(subhalo_stellar_mass+1E-1), bins=20)\n",
    "plot(edges[1:], log10(vals))"
   ]
  },
  {
   "cell_type": "code",
   "execution_count": 12,
   "metadata": {
    "collapsed": false
   },
   "outputs": [
    {
     "name": "stdout",
     "output_type": "stream",
     "text": [
      "size set S1: 4778 halos\n",
      "size set S2: 565 halos\n",
      "size set S3: 5343 halos\n"
     ]
    }
   ],
   "source": [
    "#selects the indices for two sets:\n",
    "# 1. MW like\n",
    "# 2. massive galaxies above 1.2E11 Msun in stars\n",
    "# 3. MW like + massive galaxies above 1.2E11 Msun in stars\n",
    "\n",
    "index_S1 = where((subhalo_stellar_mass>1.0) & (subhalo_stellar_mass<10.0))\n",
    "index_S2 = where(subhalo_stellar_mass>10.0)\n",
    "index_S3 = where(subhalo_stellar_mass>1.0)\n",
    "n_S1 = size(index_S1)\n",
    "n_S2 = size(index_S2)\n",
    "n_S3 = size(index_S3)\n",
    "print(\"size set S1: %d halos\"%(n_S1))\n",
    "print(\"size set S2: %d halos\"%(n_S2))\n",
    "print(\"size set S3: %d halos\"%(n_S3))"
   ]
  },
  {
   "cell_type": "code",
   "execution_count": 13,
   "metadata": {
    "collapsed": false
   },
   "outputs": [
    {
     "data": {
      "text/plain": [
       "<matplotlib.collections.PathCollection at 0x7f419e942550>"
      ]
     },
     "execution_count": 13,
     "metadata": {},
     "output_type": "execute_result"
    },
    {
     "data": {
      "image/png": "[encoded data removed]",
      "text/plain": [
       "<matplotlib.figure.Figure at 0x7f41a1902470>"
      ]
     },
     "metadata": {},
     "output_type": "display_data"
    }
   ],
   "source": [
    "scatter(log10(subhalo_stellar_mass[index_S1])+10, subhalo_vmax[index_S1])"
   ]
  },
  {
   "cell_type": "code",
   "execution_count": 14,
   "metadata": {
    "collapsed": false
   },
   "outputs": [],
   "source": [
    "S3_pos = subhalos['SubhaloPos'][index_S3]\n",
    "S3_vel = subhalos['SubhaloVel'][index_S3]\n",
    "S3_vmax = subhalos['SubhaloVmax'][index_S3]\n",
    "S3_stellar_mass = subhalo_stellar_mass[index_S3]\n",
    "#https://github.com/forero/IllustrisLG/blob/master/code/LocalGroupSubVolumes.ipynb"
   ]
  },
  {
   "cell_type": "code",
   "execution_count": 15,
   "metadata": {
    "collapsed": false
   },
   "outputs": [],
   "source": [
    "#pad boxes around the S3 positions to mimic periodic boundary conditions\n",
    "S3_pad_pos = S3_pos.copy()\n",
    "S3_pad_vel = S3_vel.copy()\n",
    "S3_pad_vmax = S3_vmax.copy()\n",
    "S3_pad_stellar_mass = S3_stellar_mass.copy()\n",
    "S3_pad_id = arange(n_S3)\n",
    "for i in (0,1,-1):\n",
    "    for j in (0,1,-1):\n",
    "        for k in (0,1,-1):\n",
    "            new_pos = S3_pos.copy()\n",
    "            if(i):\n",
    "                new_pos[:,0] = new_pos[:,0] + i*BoxSize\n",
    "            if(j):\n",
    "                new_pos[:,1] = new_pos[:,1] + j*BoxSize\n",
    "            if(k):\n",
    "                new_pos[:,2] = new_pos[:,2] + k*BoxSize\n",
    "                \n",
    "            if((i!=0) | (j!=0) | (k!=0)):\n",
    "                S3_pad_pos = append(S3_pad_pos, new_pos, axis=0)\n",
    "                S3_pad_vel = append(S3_pad_vel, S3_vel, axis=0)\n",
    "                S3_pad_vmax = append(S3_pad_vmax, S3_vmax)\n",
    "                S3_pad_stellar_mass = append(S3_pad_stellar_mass, S3_stellar_mass)\n",
    "                S3_pad_ID = append(S3_pad_id, arange(n_S3))"
   ]
  },
  {
   "cell_type": "code",
   "execution_count": 17,
   "metadata": {
    "collapsed": false
   },
   "outputs": [
    {
     "name": "stdout",
     "output_type": "stream",
     "text": [
      "(144261, 3)\n",
      "(144261, 20)\n"
     ]
    }
   ],
   "source": [
    "nbrs_S3 = NearestNeighbors(n_neighbors=20, algorithm='ball_tree').fit(S3_pad_pos)\n",
    "dist_S3, ind_S3 = nbrs_S3.kneighbors(S3_pad_pos)\n",
    "print(S3_pad_pos.shape)\n",
    "print(dist_S3.shape)"
   ]
  },
  {
   "cell_type": "code",
   "execution_count": 67,
   "metadata": {
    "collapsed": false
   },
   "outputs": [
    {
     "name": "stdout",
     "output_type": "stream",
     "text": [
      "(144261, 18)\n",
      "50\n"
     ]
    }
   ],
   "source": [
    "neighbor_index = ind_S3[:,1]\n",
    "neighbor_list = ind_S3[:,2:]\n",
    "print(shape(neighbor_list))\n",
    "\n",
    "n_pairs = 0\n",
    "\n",
    "halo_A_id = empty((0), dtype=int)\n",
    "halo_B_id = empty((0), dtype=int)\n",
    "\n",
    "for i in range(n_S3):\n",
    "    l = neighbor_index[neighbor_index[i]]% n_S3\n",
    "    j = neighbor_index[i] % n_S3\n",
    "    \n",
    "    other_j = neighbor_list[i,:] % n_S3\n",
    "    other_l = neighbor_list[neighbor_index[i],:] % n_S3\n",
    "    \n",
    "    if((i==l) & (not (j in halo_A_id)) & (not (j in halo_B_id))): # first check to find mutual neighbors\n",
    "        \n",
    "        if((S3_stellar_mass[i]<10.0) & (S3_stellar_mass[j]<10.0)): #second check on the masses of the two galaxies\n",
    "            if((dist_S3[i,1]<(1500.0)) & (dist_S3[i,1]>500.0)): #third check on the distance between the two halos\n",
    "                stellar_mass_i = S3_pad_stellar_mass[i]\n",
    "                stellar_mass_j = S3_pad_stellar_mass[j]\n",
    "                star_mass_limit = min([stellar_mass_i, stellar_mass_j])\n",
    "                massive_close_to_i = any((dist_S3[i,2:]<(3500.0)) & (S3_pad_stellar_mass[other_j]>=star_mass_limit))\n",
    "                massive_close_to_j = any((dist_S3[j,2:]<(3500.0)) & (S3_pad_stellar_mass[other_l]>=star_mass_limit))\n",
    "                if((not massive_close_to_i) & (not massive_close_to_j)): #third check on isolation from massive halos\n",
    "                    n_pairs = n_pairs+ 1\n",
    "                    halo_A_id = append(halo_A_id, int(i))\n",
    "                    halo_B_id = append(halo_B_id, int(j))\n",
    "print(n_pairs)\n"
   ]
  },
  {
   "cell_type": "code",
   "execution_count": 68,
   "metadata": {
    "collapsed": false
   },
   "outputs": [
    {
     "name": "stdout",
     "output_type": "stream",
     "text": [
      "[  586.06565978   964.53853441   753.05324044  1338.10222993   975.51474838\n",
      "   671.01306577   906.49344398   974.1696834    692.68791499  1164.39791083\n",
      "   807.66674222  1160.66288751   837.31543666  1020.03801316  1316.14019678\n",
      "   928.14368078   720.5340792    692.01105793   594.19980497  1237.71785499\n",
      "  1422.47650684  1305.70656485  1117.82841072  1286.98047609  1210.81585817\n",
      "  1081.18907275  1387.11759238   686.91687401   765.3278456   1290.39712149\n",
      "   948.82016808  1326.22225047   818.91537438  1339.90413456   948.00459464\n",
      "   587.40512191  1226.55383976   821.81948322  1493.69146597  1265.62882921\n",
      "  1130.51253456  1402.1333895   1391.89244734   535.67241326   652.52279936\n",
      "  1395.21485516  1320.50929213   970.38297032   627.22338373  1499.94223504]\n",
      "[ 2094  3247  2910  3294  3521  3630  3099  3187  4285  2740  4595  3218\n",
      "  3098  3210  3015  4723  4728  4917 19771  2962  4040  3350  4328  4664\n",
      "  3198  3564  3715  4291  4571  4543  4778  4667  3314  3736  3391  3861\n",
      "  3625  4855  4018  4428  5279  4453  4624  5212  4086  4278  4286  4658\n",
      "  4978  5002]\n",
      "5343\n"
     ]
    }
   ],
   "source": [
    "print(dist_S3[halo_A_id,1])\n",
    "print(neighbor_index[halo_A_id])\n",
    "print(n_S3)"
   ]
  },
  {
   "cell_type": "code",
   "execution_count": 69,
   "metadata": {
    "collapsed": false
   },
   "outputs": [
    {
     "data": {
      "image/png": "[encoded data removed]",
      "text/plain": [
       "<matplotlib.figure.Figure at 0x7f419e78cdd8>"
      ]
     },
     "metadata": {},
     "output_type": "display_data"
    }
   ],
   "source": [
    "relative_vel = S3_pad_vel[halo_A_id,:] - S3_pad_vel[neighbor_index[halo_A_id], :]\n",
    "norm_relative_vel = sqrt((relative_vel**2).sum(1))\n",
    "a = hist(norm_relative_vel)"
   ]
  },
  {
   "cell_type": "code",
   "execution_count": 70,
   "metadata": {
    "collapsed": false
   },
   "outputs": [
    {
     "data": {
      "image/png": "[encoded data removed]",
      "text/plain": [
       "<matplotlib.figure.Figure at 0x7f419e78ccf8>"
      ]
     },
     "metadata": {},
     "output_type": "display_data"
    }
   ],
   "source": [
    "relative_pos = S3_pad_pos[halo_A_id,:] - S3_pad_pos[neighbor_index[halo_A_id], :]\n",
    "norm_relative_pos = sqrt((relative_pos**2).sum(1))\n",
    "a = hist(norm_relative_pos)"
   ]
  },
  {
   "cell_type": "code",
   "execution_count": 71,
   "metadata": {
    "collapsed": false
   },
   "outputs": [
    {
     "data": {
      "image/png": "[encoded data removed]",
      "text/plain": [
       "<matplotlib.figure.Figure at 0x7f419e78e080>"
      ]
     },
     "metadata": {},
     "output_type": "display_data"
    }
   ],
   "source": [
    "mass_ratio = S3_pad_stellar_mass[halo_A_id]/S3_pad_stellar_mass[neighbor_index[halo_A_id]]\n",
    "index = where(mass_ratio>1.0)\n",
    "mass_ratio[index] = 1.0/mass_ratio[index]\n",
    "a = hist(mass_ratio)"
   ]
  },
  {
   "cell_type": "code",
   "execution_count": 72,
   "metadata": {
    "collapsed": false
   },
   "outputs": [
    {
     "data": {
      "text/plain": [
       "<matplotlib.collections.PathCollection at 0x7f419e97dfd0>"
      ]
     },
     "execution_count": 72,
     "metadata": {},
     "output_type": "execute_result"
    },
    {
     "data": {
      "image/png": "[encoded data removed]",
      "text/plain": [
       "<matplotlib.figure.Figure at 0x7f419e735c88>"
      ]
     },
     "metadata": {},
     "output_type": "display_data"
    }
   ],
   "source": [
    "scatter(norm_relative_pos, norm_relative_vel)"
   ]
  },
  {
   "cell_type": "markdown",
   "metadata": {},
   "source": [
    "# Sub-volume selection"
   ]
  },
  {
   "cell_type": "code",
   "execution_count": 73,
   "metadata": {
    "collapsed": true
   },
   "outputs": [],
   "source": [
    "geometric_center = 0.5*(S3_pad_pos[halo_A_id,:] + S3_pad_pos[neighbor_index[halo_A_id],:])"
   ]
  },
  {
   "cell_type": "code",
   "execution_count": 74,
   "metadata": {
    "collapsed": true
   },
   "outputs": [],
   "source": [
    "def dump_subvolume(sh, id_list, offset, boxsize, file_id=1, base_filename=\"test\", out_dir=\"../data/\"):\n",
    "    filename = \"%s/%s_%d.dat\"%(out_dir, base_filename, file_id)\n",
    "    out =  open(filename, \"w\")\n",
    "    n_points = size(id_list)\n",
    "    tmp_pos = subhalos['SubhaloPos']\n",
    "    tmp_mags = subhalos['SubhaloStellarPhotometrics']\n",
    "    tmp_vel = subhalos['SubhaloVel']\n",
    "    tmp_vmax = subhalos['SubhaloVmax']\n",
    "    out.write(\"#subID\\t x\\t y\\t z\\t vx\\t yv\\t yz\\t vmax\\t B_MAG V_MAG\\n\")\n",
    "    out.write(\"#subID\\t kpc\\t kpc\\t kpc\\t km/s\\t km/s\\t km/s\\t km/s\\t mags\\n\")\n",
    "    for i in range(n_points):\n",
    "        ii = id_list[i]\n",
    "        out.write(\"%d %f %f %f %f %f %f %f %e %e\\n\"%(ii, tmp_pos[ii,0], tmp_pos[ii,1], tmp_pos[ii,2], \n",
    "                                       tmp_vel[ii,0], tmp_vel[ii,1], tmp_vel[ii,2],\n",
    "                                       tmp_vmax[ii], subhalo_mags[ii,1], subhalo_mags[ii,2]))"
   ]
  },
  {
   "cell_type": "code",
   "execution_count": 76,
   "metadata": {
    "collapsed": false
   },
   "outputs": [
    {
     "name": "stdout",
     "output_type": "stream",
     "text": [
      "4366546\n",
      "2202\n",
      "1967\n",
      "1724\n",
      "1525\n",
      "2578\n",
      "1899\n",
      "2409\n",
      "2803\n",
      "1460\n",
      "2000\n",
      "1354\n",
      "2053\n",
      "1455\n",
      "1535\n",
      "1382\n",
      "1304\n",
      "1363\n",
      "1653\n",
      "2289\n",
      "1633\n",
      "1189\n",
      "1531\n",
      "1439\n",
      "1642\n",
      "1415\n",
      "1488\n",
      "1371\n",
      "1788\n",
      "1243\n",
      "1924\n",
      "761\n",
      "1753\n",
      "1880\n",
      "1836\n",
      "1424\n",
      "1002\n",
      "1755\n",
      "1310\n",
      "2198\n",
      "1349\n",
      "1248\n",
      "1593\n",
      "2243\n",
      "961\n",
      "1135\n",
      "1024\n",
      "1262\n",
      "1580\n",
      "1509\n",
      "1320\n"
     ]
    }
   ],
   "source": [
    "n_subs = size(subhalo_vmax)\n",
    "print(n_subs)\n",
    "for i in range(n_pairs):\n",
    "    center = geometric_center[i,:]%BoxSize\n",
    "   \n",
    "    delta = subhalo_pos.copy()\n",
    "    delta[:,0] = (delta[:,0] - center[0] + BoxSize/2.0)\n",
    "    delta[:,1] = (delta[:,1] - center[1] + BoxSize/2.0)\n",
    "    delta[:,2] = (delta[:,2] - center[2] + BoxSize/2.0)\n",
    "    delta = delta%BoxSize\n",
    "    \n",
    "    norm_delta = sqrt(((delta - BoxSize/2.0)**2).sum(1))\n",
    "    inside = where(norm_delta<3000.0)\n",
    "    inside = inside[0]\n",
    "    dump_subvolume(subhalos, inside, (center-BoxSize/2.0), BoxSize, file_id=i, base_filename=\"Illustris_group\", out_dir=\"../data/mstar_selected/\")\n",
    "    print(size(inside))"
   ]
  },
  {
   "cell_type": "code",
   "execution_count": 77,
   "metadata": {
    "collapsed": false
   },
   "outputs": [
    {
     "name": "stdout",
     "output_type": "stream",
     "text": [
      "0 [ 145.491425  207.440659  235.117157]\n",
      "1 [ 195.129425  208.009125  238.60228 ]\n",
      "2 [ 159.589401  195.777115  213.110107]\n",
      "3 [ 123.232185  205.784012  209.181351]\n",
      "4 [ 136.108643  193.96608   246.36528 ]\n",
      "5 [ 151.855957  165.017914  219.047989]\n",
      "6 [ 201.53038   230.848282  243.45047 ]\n",
      "7 [ 169.610306  199.008057  232.845367]\n",
      "8 [ 150.696472  190.419693  213.00856 ]\n",
      "9 [ 166.146484  194.110703  215.722794]\n",
      "10 [ 121.341209  176.170227  223.329086]\n",
      "11 [ 144.711716  200.501709  217.045868]\n",
      "12 [ 168.709778  230.900787  240.52977 ]\n",
      "13 [ 129.037292  194.787537  223.43602 ]\n",
      "14 [ 171.545258  196.953461  207.063828]\n",
      "15 [ 110.151093  188.909134  225.327545]\n",
      "16 [ 120.299423  146.742325  239.306488]\n",
      "17 [ 134.885605  155.036163  197.228455]\n",
      "18 [ 149.709885  177.749603  209.792328]\n",
      "19 [ 104.337395  186.345688  231.9198  ]\n",
      "20 [ 136.005524  158.602737  226.151001]\n",
      "21 [ 141.399567  195.182144  211.796692]\n",
      "22 [ 138.208145  180.691147  195.595032]\n",
      "23 [ 141.496719  154.535645  219.776016]\n",
      "24 [ 141.267624  169.737122  200.844818]\n",
      "25 [ 141.323761  216.926712  221.918274]\n",
      "26 [ 135.56015   171.07457   180.595673]\n",
      "27 [ 154.522919  185.877182  194.799484]\n",
      "28 [ 105.890236  144.109238  220.364899]\n",
      "29 [ 129.54686   153.713501  186.67012 ]\n",
      "30 [  97.617798  159.740036  207.371582]\n",
      "31 [ 141.534012  163.17749   200.832199]\n",
      "32 [ 151.143646  154.900955  174.071777]\n",
      "33 [ 134.428467  168.108292  171.645355]\n",
      "34 [ 131.516251  172.446411  206.442352]\n",
      "35 [ 119.409401  172.569702  183.159561]\n",
      "36 [ 141.476212  173.131363  187.780472]\n",
      "37 [ 128.00827   151.697021  180.410904]\n",
      "38 [ 138.376312  175.343872  177.546417]\n",
      "39 [ 154.62532   163.362839  167.182663]\n",
      "40 [ 117.203468  138.114914  149.222656]\n",
      "41 [ 153.419647  153.73024   156.846207]\n",
      "42 [ 159.292648  160.39801   175.22583 ]\n",
      "43 [  85.892456  153.580063  161.420425]\n",
      "44 [ 131.081207  152.143524  170.342407]\n",
      "45 [ 128.219589  160.368073  172.968918]\n",
      "46 [ 118.853455  152.08876   155.686874]\n",
      "47 [ 136.938278  153.594772  159.807755]\n",
      "48 [ 145.083038  154.135727  159.868515]\n",
      "49 [ 116.572037  145.665039  164.652985]\n"
     ]
    }
   ],
   "source": [
    "for i in arange(50):\n",
    "    data = loadtxt(\"../data/mstar_selected/Illustris_group_%d.dat\"%(i))\n",
    "    vmax = data[:,7]\n",
    "    vmax.sort()\n",
    "    print(i, vmax[-3:])"
   ]
  },
  {
   "cell_type": "code",
   "execution_count": 94,
   "metadata": {
    "collapsed": false
   },
   "outputs": [
    {
     "data": {
      "text/plain": [
       "<matplotlib.collections.PathCollection at 0x7f419b1aaf60>"
      ]
     },
     "execution_count": 94,
     "metadata": {},
     "output_type": "execute_result"
    },
    {
     "data": {
      "image/png": "[encoded data removed]",
      "text/plain": [
       "<matplotlib.figure.Figure at 0x7f419b1158d0>"
      ]
     },
     "metadata": {},
     "output_type": "display_data"
    }
   ],
   "source": [
    "data = loadtxt(\"../data/mstar_selected/Illustris_group_8.dat\")\n",
    "scatter(data[:,2], data[:,1], s=data[:,7]**2/100, alpha=0.5)"
   ]
  },
  {
   "cell_type": "code",
   "execution_count": null,
   "metadata": {
    "collapsed": true
   },
   "outputs": [],
   "source": []
  },
  {
   "cell_type": "code",
   "execution_count": null,
   "metadata": {
    "collapsed": true
   },
   "outputs": [],
   "source": []
  }
 ],
 "metadata": {
  "anaconda-cloud": {},
  "kernelspec": {
   "display_name": "Python [conda root]",
   "language": "python",
   "name": "conda-root-py"
  },
  "language_info": {
   "codemirror_mode": {
    "name": "ipython",
    "version": 3
   },
   "file_extension": ".py",
   "mimetype": "text/x-python",
   "name": "python",
   "nbconvert_exporter": "python",
   "pygments_lexer": "ipython3",
   "version": "3.5.2"
  }
 },
 "nbformat": 4,
 "nbformat_minor": 0
}
