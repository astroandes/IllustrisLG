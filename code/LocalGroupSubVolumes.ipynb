{
 "cells": [
  {
   "cell_type": "markdown",
   "metadata": {},
   "source": [
    "In this notebook we take the Illustris-1 simulation volume to find Local Group candidates.\n",
    "\n",
    "These candidates have the following characteristics:\n",
    "\n",
    "1. They are composed by two dark matter halos, $H_A$ and $H_B$.\n",
    "2. $H_A$ and $H_B$ belong to the set of dark matter halos $S_{1}$; $S_{1}$ contains all the halos in the mass range $1\\times 10^{11}$ M$_{\\odot}<M_h < 8\\times 10^{12}$ M$_{\\odot}$\n",
    "3. The distance between $H_A$ and $H_B$ is more than 0.5 Mpc and less than 1.3 Mpc.\n",
    "4. The relative physical velocity (i.e. after taking into account the Hubble flow) is less than $150 \\mathrm{km/s}$\n",
    "5. $H_A$ and $H_B$ are mutually its nearest halos in the set $S_{1}$.\n",
    "6. There are not any halos more massive than $5\\times 10^{12} $ M$_{\\odot}$ within $5 \\mathrm{Mpc}$ of either $H_A$ or $H_B$.\n",
    "7. There are not any halos more massive than $1\\times 10^{14} $ M$_{\\odot}$ within $12 \\mathrm{Mpc}$ of either $H_A$ or $H_B$.\n",
    "\n",
    "We now proceed to build such sample."
   ]
  },
  {
   "cell_type": "code",
   "execution_count": 1,
   "metadata": {
    "collapsed": false
   },
   "outputs": [
    {
     "name": "stdout",
     "output_type": "stream",
     "text": [
      "Populating the interactive namespace from numpy and matplotlib\n"
     ]
    }
   ],
   "source": [
    "%pylab inline\n",
    "import illustris_python.groupcat as gc\n",
    "from sklearn.neighbors import NearestNeighbors"
   ]
  },
  {
   "cell_type": "code",
   "execution_count": 5,
   "metadata": {
    "collapsed": true
   },
   "outputs": [],
   "source": [
    "basePath = \"/hpcfs/home/ciencias/fisica/docentes/je.forero/Illustris-1/\""
   ]
  },
  {
   "cell_type": "code",
   "execution_count": 9,
   "metadata": {
    "collapsed": false
   },
   "outputs": [],
   "source": [
    "halo_fields = ['GroupFirstSub', 'Group_M_Crit200', 'Group_R_Crit200', \n",
    "               'GroupNsubs', 'GroupPos', 'GroupVel', 'GroupFirstSub']\n",
    "halos = gc.loadHalos(basePath,135, fields=halo_fields) # the selection is based on the FOF groups\n",
    "\n",
    "subhalo_fields = ['SubhaloMass','SubhaloSFRinRad', 'SubhaloPos', \n",
    "                  'SubhaloVel', 'SubhaloParent', 'SubhaloGrNr', 'SubhaloStellarPhotometrics']\n",
    "subhalos = gc.loadSubhalos(basePath,135, fields=subhalo_fields)\n",
    "header = gc.loadHeader(basePath,135)"
   ]
  },
  {
   "cell_type": "code",
   "execution_count": 10,
   "metadata": {
    "collapsed": false
   },
   "outputs": [],
   "source": [
    "BoxSize = header['BoxSize']"
   ]
  },
  {
   "cell_type": "code",
   "execution_count": 11,
   "metadata": {
    "collapsed": true
   },
   "outputs": [],
   "source": [
    "halo_M_crit200 = halos['Group_M_Crit200'] # the mass selection is based on this halo mass definition\n",
    "subhalo_pos = subhalos['SubhaloPos']"
   ]
  },
  {
   "cell_type": "code",
   "execution_count": 14,
   "metadata": {
    "collapsed": false
   },
   "outputs": [
    {
     "name": "stdout",
     "output_type": "stream",
     "text": [
      "size set S1: 9985 halos\n",
      "size set S2: 107 halos\n",
      "size set S3: 10092 halos\n"
     ]
    }
   ],
   "source": [
    "#selects the indices for the two sets above mentioned\n",
    "index_S1 = where((halo_M_crit200>10.0) & (halo_M_crit200<=800.0))\n",
    "index_S2 = where((halo_M_crit200>800)) \n",
    "index_S3 = where((halo_M_crit200>10.0))#this is an intermediary set to make the sample selection easier\n",
    "index_S1 = index_S1[0]\n",
    "index_S2 = index_S2[0]\n",
    "index_S3 = index_S3[0]\n",
    "n_S1 = size(index_S1)\n",
    "n_S2 = size(index_S2)\n",
    "n_S3 = size(index_S3)\n",
    "print(\"size set S1: %d halos\"%(n_S1))\n",
    "print(\"size set S2: %d halos\"%(n_S2))\n",
    "print(\"size set S3: %d halos\"%(n_S3))"
   ]
  },
  {
   "cell_type": "code",
   "execution_count": 16,
   "metadata": {
    "collapsed": false
   },
   "outputs": [],
   "source": [
    "S3_pos = halos['GroupPos'][index_S3]\n",
    "S3_mass = halos['Group_M_Crit200'][index_S3]\n",
    "S3_vel = halos['GroupVel'][index_S3]"
   ]
  },
  {
   "cell_type": "code",
   "execution_count": 17,
   "metadata": {
    "collapsed": false
   },
   "outputs": [],
   "source": [
    "#pad boxes around the S3 positions to mimic periodic boundary conditions\n",
    "S3_pad_pos = S3_pos.copy()\n",
    "S3_pad_vel = S3_vel.copy()\n",
    "S3_pad_mass = S3_mass.copy()\n",
    "S3_pad_id = arange(n_S3)\n",
    "for i in (0,1,-1):\n",
    "    for j in (0,1,-1):\n",
    "        for k in (0,1,-1):\n",
    "            new_pos = S3_pos.copy()\n",
    "            if(i):\n",
    "                new_pos[:,0] = new_pos[:,0] + i*BoxSize\n",
    "            if(j):\n",
    "                new_pos[:,1] = new_pos[:,1] + j*BoxSize\n",
    "            if(k):\n",
    "                new_pos[:,2] = new_pos[:,2] + k*BoxSize\n",
    "                \n",
    "            if((i!=0) | (j!=0) | (k!=0)):\n",
    "                S3_pad_pos = append(S3_pad_pos, new_pos, axis=0)\n",
    "                S3_pad_vel = append(S3_pad_vel, S3_vel, axis=0)\n",
    "                S3_pad_mass = append(S3_pad_mass, S3_mass, axis=0)\n",
    "                S3_pad_ID = append(S3_pad_id, arange(n_S3))"
   ]
  },
  {
   "cell_type": "code",
   "execution_count": 93,
   "metadata": {
    "collapsed": false
   },
   "outputs": [
    {
     "name": "stdout",
     "output_type": "stream",
     "text": [
      "(79272, 3)\n",
      "(79272, 20)\n"
     ]
    }
   ],
   "source": [
    "nbrs_S3 = NearestNeighbors(n_neighbors=20, algorithm='ball_tree').fit(S3_pad_pos)\n",
    "dist_S3, ind_S3 = nbrs_S3.kneighbors(S3_pad_pos)\n",
    "print S3_pad_pos.shape\n",
    "print dist_S3.shape"
   ]
  },
  {
   "cell_type": "code",
   "execution_count": 94,
   "metadata": {
    "collapsed": false
   },
   "outputs": [
    {
     "name": "stdout",
     "output_type": "stream",
     "text": [
      "(79272, 18)\n",
      "53\n"
     ]
    }
   ],
   "source": [
    "neighbor_index = ind_S3[:,1]\n",
    "neighbor_list = ind_S3[:,2:]\n",
    "print shape(neighbor_list)\n",
    "\n",
    "n_pairs = 0\n",
    "\n",
    "halo_A_id = empty((0), dtype=int)\n",
    "halo_B_id = empty((0), dtype=int)\n",
    "\n",
    "for i in range(n_S3):\n",
    "    l = neighbor_index[neighbor_index[i]]% n_S3\n",
    "    j = neighbor_index[i] % n_S3\n",
    "    \n",
    "    other_j = neighbor_list[i,:] % n_S3\n",
    "    other_l = neighbor_list[neighbor_index[i],:] % n_S3\n",
    "    \n",
    "    if((i==l) & (not (j in halo_A_id)) & (not (j in halo_B_id))): # first check to find mutual neighbors\n",
    "        \n",
    "        if((S3_mass[i]<=800.0) & (S3_mass[j]<=800.0)): #second check on the masses of the two halos\n",
    "            \n",
    "            if(dist_S3[i,1]<(1500.0)): #third check on the distance between the two halos\n",
    "  \n",
    "                relative_vel = sqrt(sum((S3_pad_vel[i,:] - S3_pad_vel[j, :] + (hubble*100*dist_S3[i,1]/1000))**2))\n",
    "                if(relative_vel<150.0): #check on the relative velocity\n",
    "    \n",
    "                    massive_close_to_i = any((dist_S3[i,2:]<(3500.0)) & (S3_mass[other_j]>=800.0))\n",
    "                    massive_close_to_j = any((dist_S3[j,2:]<(3500.0)) & (S3_mass[other_l]>=800.0))\n",
    "                    if((not massive_close_to_i) & (not massive_close_to_j)): #third check on isolation from massive halos\n",
    "                \n",
    "                        virgo_close_to_i = any((dist_S3[i,2:]<(10000.0)) & (S3_mass[other_j]>=1.0E4))\n",
    "                        virgo_close_to_j = any((dist_S3[j,2:]<(10000.0)) & (S3_mass[other_l]>=1.0E4))\n",
    "                        if((not virgo_close_to_i) & (not virgo_close_to_j)):\n",
    "                            n_pairs = n_pairs+ 1\n",
    "                            halo_A_id = append(halo_A_id, int(i))\n",
    "                            halo_B_id = append(halo_B_id, int(j))\n",
    "print(n_pairs)"
   ]
  },
  {
   "cell_type": "code",
   "execution_count": 128,
   "metadata": {
    "collapsed": false
   },
   "outputs": [
    {
     "name": "stdout",
     "output_type": "stream",
     "text": [
      "[ 805.5886261   810.72292482  839.14633056  668.26233859  807.44482658\n",
      "  725.22863886  837.56643905  810.21472073  767.30619711  821.76129965\n",
      "  773.42782449  671.34187765  903.84240178  615.19181254  809.59634287\n",
      "  605.20342368  718.31942752  772.80628862  753.05324044  671.01306577\n",
      "  906.49344398  692.68791499  543.24541216  579.27150501  768.99494651\n",
      "  833.68636398  886.54877544  826.72770722  894.84794847  749.52348437\n",
      "  837.31543666  497.57018435  678.20278672  833.77867801  594.19980497\n",
      "  870.4905128   672.85517114  572.89268612  876.84700015  871.96079432\n",
      "  785.98009535  807.67643421  741.41708514  724.28582358  908.51640423\n",
      "  818.91537438  829.09148329  573.52657413  683.68811024  758.33072931\n",
      "  672.75733253  524.1159841   847.54797602  733.20662792  450.85159761\n",
      "  619.24522654  587.40512191  612.02873211  386.65168338  435.86455606\n",
      "  586.712729    440.20238744  596.79116995  622.17501513  661.10962164\n",
      "  767.38089968  652.52279936  656.79680215  399.49512898  375.89702269\n",
      "  474.64669692  885.27935242  442.4897742 ]\n",
      "[ 8962  1777  1977  2196  2658  2094  1734  1271  2077  2467  1543  1763\n",
      "  1665  1982  2612  1233  1826   869  1197  1897  1374  2539  2142  2595\n",
      "   948  2385  1628  2571  1434  2075  1373  1239  1689  2384 10121  1952\n",
      "  2528  2596  2682  1868  2689  2198  2437  2476  1937  1584  1709  2482\n",
      "  2562  1735  2336  2029  1743  2068  1892  2543  2132  2698  2231  2503\n",
      "  2681  2246  2325  2599  2555  2552  2351  2611  2580  2560  2618  2665\n",
      "  2687]\n",
      "2705\n"
     ]
    }
   ],
   "source": [
    "print(dist_S3[halo_A_id,1])\n",
    "print(neighbor_index[halo_A_id])\n",
    "print(n_S3)"
   ]
  },
  {
   "cell_type": "code",
   "execution_count": 95,
   "metadata": {
    "collapsed": false
   },
   "outputs": [],
   "source": [
    "relative_vel = S3_pad_vel[halo_A_id,:] - S3_pad_vel[neighbor_index[halo_A_id], :]\n",
    "norm_relative_vel = sqrt((relative_vel**2).sum(1))"
   ]
  },
  {
   "cell_type": "code",
   "execution_count": 96,
   "metadata": {
    "collapsed": false
   },
   "outputs": [
    {
     "data": {
      "image/png": "[encoded data removed]",
      "text/plain": [
       "<matplotlib.figure.Figure at 0x1c3b41d0>"
      ]
     },
     "metadata": {},
     "output_type": "display_data"
    }
   ],
   "source": [
    "a = hist(norm_relative_vel)"
   ]
  },
  {
   "cell_type": "code",
   "execution_count": 97,
   "metadata": {
    "collapsed": true
   },
   "outputs": [],
   "source": [
    "relative_pos = S3_pad_pos[halo_A_id,:] - S3_pad_pos[neighbor_index[halo_A_id], :]\n",
    "norm_relative_pos = sqrt((relative_pos**2).sum(1))"
   ]
  },
  {
   "cell_type": "code",
   "execution_count": 98,
   "metadata": {
    "collapsed": false
   },
   "outputs": [
    {
     "data": {
      "image/png": "[encoded data removed]",
      "text/plain": [
       "<matplotlib.figure.Figure at 0x4dc8750>"
      ]
     },
     "metadata": {},
     "output_type": "display_data"
    }
   ],
   "source": [
    "a = hist(norm_relative_pos)"
   ]
  },
  {
   "cell_type": "code",
   "execution_count": 99,
   "metadata": {
    "collapsed": false
   },
   "outputs": [
    {
     "data": {
      "text/plain": [
       "<matplotlib.collections.PathCollection at 0x4dcbf50>"
      ]
     },
     "execution_count": 99,
     "metadata": {},
     "output_type": "execute_result"
    },
    {
     "data": {
      "image/png": "[encoded data removed]",
      "text/plain": [
       "<matplotlib.figure.Figure at 0x2d6d710>"
      ]
     },
     "metadata": {},
     "output_type": "display_data"
    }
   ],
   "source": [
    "scatter(norm_relative_pos, norm_relative_vel)"
   ]
  },
  {
   "cell_type": "code",
   "execution_count": 100,
   "metadata": {
    "collapsed": false
   },
   "outputs": [],
   "source": [
    "geometric_center = 0.5*(S3_pad_pos[halo_A_id,:] + S3_pad_pos[neighbor_index[halo_A_id],:])"
   ]
  },
  {
   "cell_type": "markdown",
   "metadata": {},
   "source": [
    "#Sub-volume selection"
   ]
  },
  {
   "cell_type": "code",
   "execution_count": 170,
   "metadata": {
    "collapsed": false
   },
   "outputs": [],
   "source": [
    "def dump_subvolume(sh, id_list, offset, boxsize, file_id=1, base_filename=\"test\", out_dir=\"../data/\"):\n",
    "    filename = \"%s/%s_%d.dat\"%(out_dir, base_filename, file_id)\n",
    "    out =  open(filename, \"w\")\n",
    "    n_points = size(id_list)\n",
    "    tmp_pos = subhalos['SubhaloPos']\n",
    "    tmp_mags = subhalos['SubhaloStellarPhotometrics']\n",
    "    tmp_vel = subhalos['SubhaloVel']\n",
    "    tmp_vmax = subhalos['SubhaloVmax']\n",
    "    out.write(\"#subID\\t x\\t y\\t z\\t vx\\t yv\\t yz\\t vmax\\t B_MAG\\n\")\n",
    "    out.write(\"#subID\\t kpc/h\\t kpc/h\\t kpc/h\\t km/s\\t km/s\\t km/s\\t km/s\\t mags\\n\")\n",
    "    for i in range(n_points):\n",
    "        ii = id_list[i]\n",
    "        out.write(\"%d %f %f %f %f %f %f %f %e\\n\"%(ii, tmp_pos[ii,0], tmp_pos[ii,1], tmp_pos[ii,2], \n",
    "                                       tmp_vel[ii,0], tmp_vel[ii,1], tmp_vel[ii,2],\n",
    "                                       tmp_vmax[ii], subhalo_mags[ii,1]))"
   ]
  },
  {
   "cell_type": "code",
   "execution_count": 171,
   "metadata": {
    "collapsed": false
   },
   "outputs": [
    {
     "name": "stdout",
     "output_type": "stream",
     "text": [
      "4366546\n",
      "1080\n",
      "1056\n",
      "1054\n",
      "790\n",
      "1402\n",
      "1146\n",
      "556\n",
      "1768\n",
      "933\n",
      "1098\n",
      "1141\n",
      "1045\n",
      "2161\n",
      "813\n",
      "900\n",
      "1241\n",
      "519\n",
      "2288\n",
      "1260\n",
      "732\n",
      "904\n",
      "772\n",
      "1010\n",
      "1041\n",
      "1164\n",
      "725\n",
      "1226\n",
      "544\n",
      "899\n",
      "1396\n",
      "1162\n",
      "1184\n",
      "517\n",
      "1044\n",
      "490\n",
      "862\n",
      "884\n",
      "1338\n",
      "840\n",
      "784\n",
      "580\n",
      "544\n",
      "2247\n",
      "1203\n",
      "816\n",
      "1512\n",
      "821\n",
      "646\n",
      "714\n",
      "617\n",
      "596\n",
      "1225\n",
      "1021\n"
     ]
    }
   ],
   "source": [
    "n_subs = size(subhalo_pos[:,0])\n",
    "print n_subs\n",
    "for i in range(n_pairs):\n",
    "    center = geometric_center[i,:]%BoxSize\n",
    "   \n",
    "    delta = subhalo_pos.copy()\n",
    "    delta[:,0] = (delta[:,0] - center[0] + BoxSize/2.0)\n",
    "    delta[:,1] = (delta[:,1] - center[1] + BoxSize/2.0)\n",
    "    delta[:,2] = (delta[:,2] - center[2] + BoxSize/2.0)\n",
    "    delta = delta%BoxSize\n",
    "    \n",
    "    norm_delta = sqrt(((delta - BoxSize/2.0)**2).sum(1))\n",
    "    inside = where(norm_delta<3000.0)\n",
    "    inside = inside[0]\n",
    "    dump_subvolume(subhalos, inside, (center-BoxSize/2.0)*hubble, BoxSize*hubble, file_id=i, base_filename=\"Illustris_group\", out_dir=\"../data/\")\n",
    "    print(size(inside))"
   ]
  },
  {
   "cell_type": "code",
   "execution_count": null,
   "metadata": {
    "collapsed": true
   },
   "outputs": [],
   "source": []
  }
 ],
 "metadata": {
  "anaconda-cloud": {},
  "kernelspec": {
   "display_name": "Python [conda root]",
   "language": "python",
   "name": "conda-root-py"
  },
  "language_info": {
   "codemirror_mode": {
    "name": "ipython",
    "version": 3
   },
   "file_extension": ".py",
   "mimetype": "text/x-python",
   "name": "python",
   "nbconvert_exporter": "python",
   "pygments_lexer": "ipython3",
   "version": "3.5.2"
  }
 },
 "nbformat": 4,
 "nbformat_minor": 0
}
