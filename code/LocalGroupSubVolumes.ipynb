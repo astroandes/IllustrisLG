{
 "cells": [
  {
   "cell_type": "markdown",
   "metadata": {},
   "source": [
    "In this notebook we take the Illustris-1 simulation volume to find Local Group candidates.\n",
    "\n",
    "These candidates have the following characteristics:\n",
    "\n",
    "1. They are composed by two dark matter halos, $H_A$ and $H_B$.\n",
    "2. $H_A$ and $H_B$ belong to the set of dark matter halos $S_{1}$; $S_{1}$ contains all the halos in the mass range $5\\times 10^{11}$ M$_{\\odot}<M_h < 5\\times 10^{12}$ M$_{\\odot}$\n",
    "3. The distance between $H_A$ and $H_B$ is less than 1.3 Mpc.\n",
    "4. The relative physical velocity (i.e. taking into account the hubble flow) is less than $150 \\mathrm{km/s}$\n",
    "5. $H_A$ and $H_B$ are mutually its nearest halos in the set $S_{1}$.\n",
    "6. There are not any halos more massive than $5\\times 10^{12} $ M$_{\\odot}$ within $5 \\mathrm{Mpc}$ of either $H_A$ or $H_B$.\n",
    "7. There are not any halos more massive than $1\\times 10^{14} $ M$_{\\odot}$ within $12 \\mathrm{Mpc}$ of either $H_A$ or $H_B$.\n",
    "\n",
    "We now proceed to build such sample."
   ]
  },
  {
   "cell_type": "code",
   "execution_count": 296,
   "metadata": {
    "collapsed": false
   },
   "outputs": [
    {
     "name": "stdout",
     "output_type": "stream",
     "text": [
      "Populating the interactive namespace from numpy and matplotlib\n"
     ]
    }
   ],
   "source": [
    "%pylab inline\n",
    "import illustris_python as il\n",
    "from sklearn.neighbors import NearestNeighbors"
   ]
  },
  {
   "cell_type": "code",
   "execution_count": 297,
   "metadata": {
    "collapsed": true
   },
   "outputs": [],
   "source": [
    "basePath = '/home/forero/work/data/Illustris/illustris-1/' #change it accordingly to the path to the data"
   ]
  },
  {
   "cell_type": "code",
   "execution_count": 298,
   "metadata": {
    "collapsed": false
   },
   "outputs": [],
   "source": [
    "halos = il.groupcat.loadHalos(basePath,135) # the selection is based on the FOF groups\n",
    "header = il.groupcat.loadHeader(basePath,135)"
   ]
  },
  {
   "cell_type": "code",
   "execution_count": 299,
   "metadata": {
    "collapsed": false
   },
   "outputs": [],
   "source": [
    "hubble = 0.7\n",
    "BoxSize = header['BoxSize']/hubble"
   ]
  },
  {
   "cell_type": "code",
   "execution_count": 300,
   "metadata": {
    "collapsed": true
   },
   "outputs": [],
   "source": [
    "halo_M_crit200 = halos['Group_M_Crit200']/hubble # the mass selection is based on this halo mass definition"
   ]
  },
  {
   "cell_type": "code",
   "execution_count": 301,
   "metadata": {
    "collapsed": false
   },
   "outputs": [
    {
     "name": "stdout",
     "output_type": "stream",
     "text": [
      "size set S1: 2661 halos\n",
      "size set S2: 275 halos\n",
      "size set S3: 2936 halos\n"
     ]
    }
   ],
   "source": [
    "#selects the indices for the two sets above mentioned\n",
    "index_S1 = where((halo_M_crit200>50.0) & (halo_M_crit200<=500.0))\n",
    "index_S2 = where((halo_M_crit200>500)) \n",
    "index_S3 = where((halo_M_crit200>50.0))#this is an intermediary set to make the sample selection easier\n",
    "index_S1 = index_S1[0]\n",
    "index_S2 = index_S2[0]\n",
    "index_S3 = index_S3[0]\n",
    "n_S1 = size(index_S1)\n",
    "n_S2 = size(index_S2)\n",
    "n_S3 = size(index_S3)\n",
    "print(\"size set S1: %d halos\"%(n_S1))\n",
    "print(\"size set S2: %d halos\"%(n_S2))\n",
    "print(\"size set S3: %d halos\"%(n_S3))"
   ]
  },
  {
   "cell_type": "code",
   "execution_count": 302,
   "metadata": {
    "collapsed": false
   },
   "outputs": [],
   "source": [
    "S3_pos = halos['GroupPos'][index_S3]/hubble\n",
    "S3_vel = halos['GroupVel'][index_S3]/hubble\n",
    "S3_mass = halos['Group_M_Mean200'][index_S3]/hubble"
   ]
  },
  {
   "cell_type": "code",
   "execution_count": 303,
   "metadata": {
    "collapsed": false
   },
   "outputs": [],
   "source": [
    "#pad boxes around the S3 positions to mimic periodic boundary conditions\n",
    "S3_pad_pos = S3_pos.copy()\n",
    "S3_pad_vel = S3_vel.copy()\n",
    "S3_pad_mass = S3_mass.copy()\n",
    "S3_pad_id = arange(n_S3)\n",
    "for i in (0,1,-1):\n",
    "    for j in (0,1,-1):\n",
    "        for k in (0,1,-1):\n",
    "            new_pos = S3_pos.copy()\n",
    "            if(i):\n",
    "                new_pos[:,0] = new_pos[:,0] + i*BoxSize\n",
    "            if(j):\n",
    "                new_pos[:,1] = new_pos[:,1] + j*BoxSize\n",
    "            if(k):\n",
    "                new_pos[:,2] = new_pos[:,2] + k*BoxSize\n",
    "                \n",
    "            if((i!=0) | (j!=0) | (k!=0)):\n",
    "                S3_pad_pos = append(S3_pad_pos, new_pos, axis=0)\n",
    "                S3_pad_vel = append(S3_pad_vel, S3_vel, axis=0)\n",
    "                S3_pad_mass = append(S3_pad_mass, S3_mass, axis=0)\n",
    "                S3_pad_ID = append(S3_pad_id, arange(n_S3))"
   ]
  },
  {
   "cell_type": "code",
   "execution_count": 304,
   "metadata": {
    "collapsed": false
   },
   "outputs": [
    {
     "name": "stdout",
     "output_type": "stream",
     "text": [
      "(79272, 3)\n",
      "(79272, 20)\n"
     ]
    }
   ],
   "source": [
    "nbrs_S3 = NearestNeighbors(n_neighbors=20, algorithm='ball_tree').fit(S3_pad_pos)\n",
    "dist_S3, ind_S3 = nbrs_S3.kneighbors(S3_pad_pos)\n",
    "print S3_pad_pos.shape\n",
    "print dist_S3.shape"
   ]
  },
  {
   "cell_type": "code",
   "execution_count": 330,
   "metadata": {
    "collapsed": false
   },
   "outputs": [
    {
     "name": "stdout",
     "output_type": "stream",
     "text": [
      "(79272, 18)\n",
      "44\n"
     ]
    }
   ],
   "source": [
    "neighbor_index = ind_S3[:,1]\n",
    "neighbor_list = ind_S3[:,2:]\n",
    "print shape(neighbor_list)\n",
    "\n",
    "n_pairs = 0\n",
    "\n",
    "halo_A_id = empty((0), dtype=int)\n",
    "halo_B_id = empty((0), dtype=int)\n",
    "\n",
    "for i in range(n_S3):\n",
    "    l = neighbor_index[neighbor_index[i]]% n_S3\n",
    "    j = neighbor_index[i] % n_S3\n",
    "    \n",
    "    other_j = neighbor_list[i,:] % n_S3\n",
    "    other_l = neighbor_list[neighbor_index[i],:] % n_S3\n",
    "    \n",
    "    if((i==l) & (not (j in halo_A_id)) & (not (j in halo_B_id))): # first check to find mutual neighbors\n",
    "        \n",
    "        if((S3_mass[i]<=500.0) & (S3_mass[j]<=500.0)): #second check on the masses of the two halos\n",
    "            \n",
    "            if(dist_S3[i,1]<(1300.0)): #third check on the distance between the two halos\n",
    "  \n",
    "                relative_vel = sqrt(sum((S3_pad_vel[i,:] - S3_pad_vel[j, :] + (hubble*100*dist_S3[i,1]/1000))**2))\n",
    "                if(relative_vel<150.0): #check on the relative velocity\n",
    "    \n",
    "                    massive_close_to_i = any((dist_S3[i,2:]<(5000.0)) & (S3_mass[other_j]>=500.0))\n",
    "                    massive_close_to_j = any((dist_S3[j,2:]<(5000.0)) & (S3_mass[other_l]>=500.0))\n",
    "                    if((not massive_close_to_i) & (not massive_close_to_j)): #third check on isolation from massive halos\n",
    "                \n",
    "                        virgo_close_to_i = any((dist_S3[i,2:]<(12000.0)) & (S3_mass[other_j]>=1.0E4))\n",
    "                        virgo_close_to_j = any((dist_S3[j,2:]<(12000.0)) & (S3_mass[other_l]>=1.0E4))\n",
    "                        if((not virgo_close_to_i) & (not virgo_close_to_j)):\n",
    "                            n_pairs = n_pairs+ 1\n",
    "                            halo_A_id = append(halo_A_id, int(i))\n",
    "                            halo_B_id = append(halo_B_id, int(j))\n",
    "print n_pairs"
   ]
  },
  {
   "cell_type": "code",
   "execution_count": 333,
   "metadata": {
    "collapsed": false
   },
   "outputs": [],
   "source": [
    "relative_vel = S3_pad_vel[halo_A_id,:] - S3_pad_vel[neighbor_index[halo_A_id], :]\n",
    "norm_relative_vel = sqrt((relative_vel**2).sum(1))"
   ]
  },
  {
   "cell_type": "code",
   "execution_count": 334,
   "metadata": {
    "collapsed": false
   },
   "outputs": [
    {
     "data": {
      "image/png": "[encoded data removed]",
      "text/plain": [
       "<matplotlib.figure.Figure at 0x1f2ce710>"
      ]
     },
     "metadata": {},
     "output_type": "display_data"
    }
   ],
   "source": [
    "a = hist(norm_relative_vel)"
   ]
  },
  {
   "cell_type": "code",
   "execution_count": 335,
   "metadata": {
    "collapsed": true
   },
   "outputs": [],
   "source": [
    "relative_pos = S3_pad_pos[halo_A_id,:] - S3_pad_pos[neighbor_index[halo_A_id], :]\n",
    "norm_relative_pos = sqrt((relative_pos**2).sum(1))"
   ]
  },
  {
   "cell_type": "code",
   "execution_count": 336,
   "metadata": {
    "collapsed": false
   },
   "outputs": [
    {
     "data": {
      "image/png": "[encoded data removed]",
      "text/plain": [
       "<matplotlib.figure.Figure at 0x1f8f2e10>"
      ]
     },
     "metadata": {},
     "output_type": "display_data"
    }
   ],
   "source": [
    "a = hist(norm_relative_pos)"
   ]
  },
  {
   "cell_type": "code",
   "execution_count": 337,
   "metadata": {
    "collapsed": false
   },
   "outputs": [
    {
     "data": {
      "text/plain": [
       "<matplotlib.collections.PathCollection at 0x1a9de890>"
      ]
     },
     "execution_count": 337,
     "metadata": {},
     "output_type": "execute_result"
    },
    {
     "data": {
      "image/png": "[encoded data removed]",
      "text/plain": [
       "<matplotlib.figure.Figure at 0x589f2b50>"
      ]
     },
     "metadata": {},
     "output_type": "display_data"
    }
   ],
   "source": [
    "scatter(norm_relative_pos, norm_relative_vel)"
   ]
  },
  {
   "cell_type": "code",
   "execution_count": 338,
   "metadata": {
    "collapsed": false
   },
   "outputs": [],
   "source": [
    "center_of_mass = (S3_pad_pos[halo_A_id,:] * S3_pad_mass[halo_A_id].reshape(n_pairs,1)\\\n",
    "            + S3_pad_pos[neighbor_index[halo_A_id],:] * S3_pad_mass[neighbor_index[halo_A_id]].reshape(n_pairs,1))/\\\n",
    "            (S3_pad_mass[halo_A_id].reshape(n_pairs,1) + S3_pad_mass[neighbor_index[halo_A_id]].reshape(n_pairs,1))"
   ]
  },
  {
   "cell_type": "code",
   "execution_count": 319,
   "metadata": {
    "collapsed": false
   },
   "outputs": [
    {
     "data": {
      "text/plain": [
       "<matplotlib.collections.PathCollection at 0x1a9db5d0>"
      ]
     },
     "execution_count": 319,
     "metadata": {},
     "output_type": "execute_result"
    },
    {
     "data": {
      "image/png": "[encoded data removed]",
      "text/plain": [
       "<matplotlib.figure.Figure at 0x1f8fee50>"
      ]
     },
     "metadata": {},
     "output_type": "display_data"
    }
   ],
   "source": [
    "scatter(center_of_mass[:,0]/BoxSize, center_of_mass[:,1]/BoxSize)"
   ]
  },
  {
   "cell_type": "code",
   "execution_count": null,
   "metadata": {
    "collapsed": true
   },
   "outputs": [],
   "source": []
  }
 ],
 "metadata": {
  "kernelspec": {
   "display_name": "Python 2",
   "language": "python",
   "name": "python2"
  },
  "language_info": {
   "codemirror_mode": {
    "name": "ipython",
    "version": 2
   },
   "file_extension": ".py",
   "mimetype": "text/x-python",
   "name": "python",
   "nbconvert_exporter": "python",
   "pygments_lexer": "ipython2",
   "version": "2.7.3"
  }
 },
 "nbformat": 4,
 "nbformat_minor": 0
}
