{
 "cells": [
  {
   "cell_type": "code",
   "execution_count": null,
   "metadata": {
    "collapsed": false
   },
   "outputs": [],
   "source": [
    "import numpy as np\n",
    "import matplotlib.pyplot as plt\n",
    "%matplotlib inline"
   ]
  },
  {
   "cell_type": "code",
   "execution_count": null,
   "metadata": {
    "collapsed": true
   },
   "outputs": [],
   "source": [
    "def load_summary(snap_name, boxsize=75000.0):\n",
    "    dtype=[('fofid','i8'),\n",
    "           ('mfof', 'f8'),\n",
    "           ('x', 'f8'),\n",
    "           ('y', 'f8'), \n",
    "           ('z', 'f8'),\n",
    "           ('vx', 'f8'),\n",
    "           ('vy', 'f8'),\n",
    "           ('vz', 'f8')]\n",
    "    snap_data = np.loadtxt(snap_name, dtype=dtype)    \n",
    "    # this takes into account periodic boudary conditions from Illustris\n",
    "    for col in list(['x','y','z']):\n",
    "        if((snap_data[col].max() - snap_data[col].min()) > 0.5 * boxsize):\n",
    "            snap_data[col] = (snap_data[col] - 0.5 * boxsize) % boxsize\n",
    "    return snap_data"
   ]
  },
  {
   "cell_type": "code",
   "execution_count": null,
   "metadata": {
    "collapsed": false
   },
   "outputs": [],
   "source": [
    "data_dm_A = load_summary('../data/dm_selected/summary_halo_A.txt')\n",
    "data_dm_B = load_summary('../data/dm_selected/summary_halo_B.txt')\n",
    "data_mstar_A = load_summary('../data/mstar_selected/summary_halo_A.txt')\n",
    "data_mstar_B = load_summary('../data/mstar_selected/summary_halo_B.txt')"
   ]
  },
  {
   "cell_type": "code",
   "execution_count": null,
   "metadata": {
    "collapsed": true
   },
   "outputs": [],
   "source": []
  }
 ],
 "metadata": {
  "anaconda-cloud": {},
  "kernelspec": {
   "display_name": "Python [conda root]",
   "language": "python",
   "name": "conda-root-py"
  },
  "language_info": {
   "codemirror_mode": {
    "name": "ipython",
    "version": 3
   },
   "file_extension": ".py",
   "mimetype": "text/x-python",
   "name": "python",
   "nbconvert_exporter": "python",
   "pygments_lexer": "ipython3",
   "version": "3.5.2"
  }
 },
 "nbformat": 4,
 "nbformat_minor": 0
}
