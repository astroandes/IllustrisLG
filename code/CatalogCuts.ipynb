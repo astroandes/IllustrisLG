{
 "cells": [
  {
   "cell_type": "code",
   "execution_count": 1,
   "metadata": {
    "collapsed": false
   },
   "outputs": [
    {
     "name": "stdout",
     "output_type": "stream",
     "text": [
      "Populating the interactive namespace from numpy and matplotlib\n"
     ]
    }
   ],
   "source": [
    "%pylab inline"
   ]
  },
  {
   "cell_type": "code",
   "execution_count": 2,
   "metadata": {
    "collapsed": true
   },
   "outputs": [],
   "source": [
    "import illustris_python as il"
   ]
  },
  {
   "cell_type": "code",
   "execution_count": 3,
   "metadata": {
    "collapsed": true
   },
   "outputs": [],
   "source": [
    "basePath = '/Users/forero/illustris-3/'"
   ]
  },
  {
   "cell_type": "code",
   "execution_count": 4,
   "metadata": {
    "collapsed": false
   },
   "outputs": [],
   "source": [
    "halos = il.groupcat.loadHalos(basePath,135)\n",
    "subhalos = il.groupcat.loadSubhalos(basePath,135)"
   ]
  },
  {
   "cell_type": "code",
   "execution_count": 5,
   "metadata": {
    "collapsed": false
   },
   "outputs": [
    {
     "name": "stdout",
     "output_type": "stream",
     "text": [
      "[u'Group_M_Crit200', u'Group_R_Mean200', u'GroupMass', u'Group_M_Mean200', u'GroupStarMetallicity', u'GroupVel', u'GroupBHMass', u'GroupMassType', u'Group_R_Crit200', u'GroupFirstSub', u'GroupSFR', u'GroupPos', u'Group_M_TopHat200', u'Group_M_Crit500', u'GroupCM', u'Group_R_Crit500', u'GroupNsubs', u'GroupLenType', u'GroupGasMetallicity', 'count', u'GroupBHMdot', u'GroupWindMass', u'Group_R_TopHat200', u'GroupLen']\n",
      "[u'SubhaloPos', u'SubhaloBHMdot', u'SubhaloVmax', u'SubhaloWindMass', u'SubhaloGasMetallicityMaxRad', u'SubhaloVelDisp', u'SubhaloSFR', u'SubhaloStarMetallicityMaxRad', u'SubhaloLen', u'SubhaloSFRinHalfRad', u'SubhaloStellarPhotometrics', u'SubhaloGasMetallicity', u'SubhaloBHMass', u'SubhaloIDMostbound', u'SubhaloMassType', u'SubhaloStellarPhotometricsMassInRad', u'SubhaloHalfmassRad', u'SubhaloParent', u'SubhaloSpin', u'SubhaloStarMetallicityHalfRad', u'SubhaloVel', u'SubhaloLenType', u'SubhaloGasMetallicitySfrWeighted', u'SubhaloGasMetallicityHalfRad', u'SubhaloMassInRad', u'SubhaloGrNr', u'SubhaloMassInHalfRad', u'SubhaloSFRinRad', u'SubhaloMassInMaxRad', u'SubhaloHalfmassRadType', u'SubhaloMassInMaxRadType', u'SubhaloCM', u'SubhaloStarMetallicity', 'count', u'SubhaloMassInHalfRadType', u'SubhaloMass', u'SubhaloMassInRadType', u'SubhaloVmaxRad', u'SubhaloSFRinMaxRad', u'SubhaloStellarPhotometricsRad', u'SubhaloGasMetallicitySfr']\n"
     ]
    }
   ],
   "source": [
    "print halos.keys()\n",
    "print subhalos.keys()"
   ]
  },
  {
   "cell_type": "code",
   "execution_count": 23,
   "metadata": {
    "collapsed": false
   },
   "outputs": [
    {
     "name": "stdout",
     "output_type": "stream",
     "text": [
      "(131727, 6)\n",
      "0.0282174\n"
     ]
    }
   ],
   "source": [
    "#mases are: Gas, DM, unused, tracers, stars+wind particles, black holes\n",
    "halo_masses = halos['GroupMassType']\n",
    "halo_M_crit200 = halos['Group_M_Mean200']\n",
    "print shape(halo_masses)\n",
    "print min(halo_masses[:,1])"
   ]
  },
  {
   "cell_type": "code",
   "execution_count": 24,
   "metadata": {
    "collapsed": false
   },
   "outputs": [
    {
     "name": "stdout",
     "output_type": "stream",
     "text": [
      "[-23.66972542 -24.06076431 -24.91646004 -27.84368134 -24.5111351\n",
      " -25.25495529 -25.61162567 -25.86482811]\n"
     ]
    }
   ],
   "source": [
    "#Eight bands: U, B, V, K, g, r, i, z. Magnitudes based on the summed-up luminosities of all the stellar particles.\n",
    "subhalo_mags = subhalos['SubhaloStellarPhotometrics']\n",
    "print subhalo_mags[0]\n",
    "#Index into the Group table of the FOF host/parent of this Subhalo. \n",
    "subhalo_grnr = subhalos['SubhaloGrNr']"
   ]
  },
  {
   "cell_type": "code",
   "execution_count": 35,
   "metadata": {
    "collapsed": false
   },
   "outputs": [
    {
     "name": "stdout",
     "output_type": "stream",
     "text": [
      "2496\n"
     ]
    }
   ],
   "source": [
    "#MW mass range\n",
    "index_MW = where((halo_M_crit200>50.0) & (halo_M_crit200<500.0))\n",
    "index_MW = index_MW[0]\n",
    "n_MW = size(index_MW)\n",
    "print n_MW"
   ]
  },
  {
   "cell_type": "code",
   "execution_count": 36,
   "metadata": {
    "collapsed": false
   },
   "outputs": [],
   "source": [
    "FOF_MW_pos = halos['GroupPos'][index_MW]\n",
    "FOF_MW_vel = halos['GroupVel'][index_MW]\n",
    "FOF_MW_FOFID = index_MW"
   ]
  },
  {
   "cell_type": "code",
   "execution_count": 41,
   "metadata": {
    "collapsed": false
   },
   "outputs": [],
   "source": [
    "out = open(\"../data/MW_FOF_candidates.dat\", \"w\")\n",
    "out.write(\"#FOFID pos_x pos_y pos_z vel_x vel_y vel_z\\n\")\n",
    "out.write(\"#integer Mpc/h Mpc/h Mpc/h km/s km/s km/s \\n\")\n",
    "\n",
    "for i in range(n_MW):\n",
    "    out.write(\"%d %f %f %f %f %f %f\\n\"%(FOF_MW_FOFID[i], FOF_MW_pos[i,0], FOF_MW_pos[i,1], FOF_MW_pos[i,2], \n",
    "                      FOF_MW_vel[i,0], FOF_MW_vel[i,1], FOF_MW_vel[i,2]))\n",
    "out.close()"
   ]
  },
  {
   "cell_type": "code",
   "execution_count": null,
   "metadata": {
    "collapsed": true
   },
   "outputs": [],
   "source": []
  }
 ],
 "metadata": {
  "kernelspec": {
   "display_name": "Python 2",
   "language": "python",
   "name": "python2"
  },
  "language_info": {
   "codemirror_mode": {
    "name": "ipython",
    "version": 2
   },
   "file_extension": ".py",
   "mimetype": "text/x-python",
   "name": "python",
   "nbconvert_exporter": "python",
   "pygments_lexer": "ipython2",
   "version": "2.7.1"
  }
 },
 "nbformat": 4,
 "nbformat_minor": 0
}
