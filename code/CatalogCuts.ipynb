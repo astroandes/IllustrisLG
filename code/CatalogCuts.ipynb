{
 "cells": [
  {
   "cell_type": "code",
   "execution_count": 5,
   "metadata": {
    "collapsed": false
   },
   "outputs": [
    {
     "name": "stdout",
     "output_type": "stream",
     "text": [
      "Populating the interactive namespace from numpy and matplotlib\n"
     ]
    }
   ],
   "source": [
    "%pylab inline"
   ]
  },
  {
   "cell_type": "code",
   "execution_count": 6,
   "metadata": {
    "collapsed": true
   },
   "outputs": [],
   "source": [
    "import illustris_python as il"
   ]
  },
  {
   "cell_type": "code",
   "execution_count": 7,
   "metadata": {
    "collapsed": true
   },
   "outputs": [],
   "source": [
    "basePath = '/Users/forero/illustris-3/'"
   ]
  },
  {
   "cell_type": "code",
   "execution_count": 8,
   "metadata": {
    "collapsed": false
   },
   "outputs": [],
   "source": [
    "halos = il.groupcat.loadHalos(basePath,135)\n",
    "subhalos = il.groupcat.loadSubhalos(basePath,135)"
   ]
  },
  {
   "cell_type": "code",
   "execution_count": 9,
   "metadata": {
    "collapsed": false
   },
   "outputs": [
    {
     "name": "stdout",
     "output_type": "stream",
     "text": [
      "[u'Group_M_Crit200', u'Group_R_Mean200', u'GroupMass', u'Group_M_Mean200', u'GroupStarMetallicity', u'GroupVel', u'GroupBHMass', u'GroupMassType', u'Group_R_Crit200', u'GroupFirstSub', u'GroupSFR', u'GroupPos', u'Group_M_TopHat200', u'Group_M_Crit500', u'GroupCM', u'Group_R_Crit500', u'GroupNsubs', u'GroupLenType', u'GroupGasMetallicity', 'count', u'GroupBHMdot', u'GroupWindMass', u'Group_R_TopHat200', u'GroupLen']\n",
      "[u'SubhaloPos', u'SubhaloBHMdot', u'SubhaloVmax', u'SubhaloWindMass', u'SubhaloGasMetallicityMaxRad', u'SubhaloVelDisp', u'SubhaloSFR', u'SubhaloStarMetallicityMaxRad', u'SubhaloLen', u'SubhaloSFRinHalfRad', u'SubhaloStellarPhotometrics', u'SubhaloGasMetallicity', u'SubhaloBHMass', u'SubhaloIDMostbound', u'SubhaloMassType', u'SubhaloStellarPhotometricsMassInRad', u'SubhaloHalfmassRad', u'SubhaloParent', u'SubhaloSpin', u'SubhaloStarMetallicityHalfRad', u'SubhaloVel', u'SubhaloLenType', u'SubhaloGasMetallicitySfrWeighted', u'SubhaloGasMetallicityHalfRad', u'SubhaloMassInRad', u'SubhaloGrNr', u'SubhaloMassInHalfRad', u'SubhaloSFRinRad', u'SubhaloMassInMaxRad', u'SubhaloHalfmassRadType', u'SubhaloMassInMaxRadType', u'SubhaloCM', u'SubhaloStarMetallicity', 'count', u'SubhaloMassInHalfRadType', u'SubhaloMass', u'SubhaloMassInRadType', u'SubhaloVmaxRad', u'SubhaloSFRinMaxRad', u'SubhaloStellarPhotometricsRad', u'SubhaloGasMetallicitySfr']\n"
     ]
    }
   ],
   "source": [
    "print halos.keys()\n",
    "print subhalos.keys()"
   ]
  },
  {
   "cell_type": "code",
   "execution_count": 10,
   "metadata": {
    "collapsed": false
   },
   "outputs": [
    {
     "name": "stdout",
     "output_type": "stream",
     "text": [
      "(131727, 6)\n",
      "0.0282174\n"
     ]
    }
   ],
   "source": [
    "#mases are: Gas, DM, unused, tracers, stars+wind particles, black holes\n",
    "halo_masses = halos['GroupMassType']\n",
    "halo_M_crit200 = halos['Group_M_Mean200']\n",
    "print shape(halo_masses)\n",
    "print min(halo_masses[:,1])"
   ]
  },
  {
   "cell_type": "code",
   "execution_count": 11,
   "metadata": {
    "collapsed": false
   },
   "outputs": [
    {
     "name": "stdout",
     "output_type": "stream",
     "text": [
      "[-23.66972542 -24.06076431 -24.91646004 -27.84368134 -24.5111351\n",
      " -25.25495529 -25.61162567 -25.86482811]\n"
     ]
    }
   ],
   "source": [
    "#Eight bands: U, B, V, K, g, r, i, z. Magnitudes based on the summed-up luminosities of all the stellar particles.\n",
    "subhalo_mags = subhalos['SubhaloStellarPhotometrics']\n",
    "print subhalo_mags[0]\n",
    "#Index into the Group table of the FOF host/parent of this Subhalo. \n",
    "subhalo_grnr = subhalos['SubhaloGrNr']"
   ]
  },
  {
   "cell_type": "code",
   "execution_count": 12,
   "metadata": {
    "collapsed": false
   },
   "outputs": [
    {
     "name": "stdout",
     "output_type": "stream",
     "text": [
      "2496\n"
     ]
    }
   ],
   "source": [
    "#MW mass range\n",
    "index_MW = where((halo_M_crit200>50.0) & (halo_M_crit200<500.0))\n",
    "index_MW = index_MW[0]\n",
    "n_MW = size(index_MW)\n",
    "print n_MW"
   ]
  },
  {
   "cell_type": "code",
   "execution_count": 76,
   "metadata": {
    "collapsed": false
   },
   "outputs": [],
   "source": [
    "FOF_MW_pos = halos['GroupPos'][index_MW]\n",
    "FOF_MW_vel = halos['GroupVel'][index_MW]\n",
    "FOF_MW_FOFID = index_MW"
   ]
  },
  {
   "cell_type": "code",
   "execution_count": 77,
   "metadata": {
    "collapsed": false
   },
   "outputs": [],
   "source": [
    "out = open(\"../data/MW_FOF_candidates.dat\", \"w\")\n",
    "out.write(\"#FOFID pos_x pos_y pos_z vel_x vel_y vel_z\\n\")\n",
    "out.write(\"#integer kpc/h kpc/h kpc/h km/s km/s km/s \\n\")\n",
    "\n",
    "for i in range(n_MW):\n",
    "    out.write(\"%d %f %f %f %f %f %f\\n\"%(FOF_MW_FOFID[i], FOF_MW_pos[i,0], FOF_MW_pos[i,1], FOF_MW_pos[i,2], \n",
    "                      FOF_MW_vel[i,0], FOF_MW_vel[i,1], FOF_MW_vel[i,2]))\n",
    "out.close()"
   ]
  },
  {
   "cell_type": "code",
   "execution_count": 82,
   "metadata": {
    "collapsed": false
   },
   "outputs": [],
   "source": [
    "#pad boxes around to mock periodic boundary conditions\n",
    "FOF_MW_pad_pos = FOF_MW_pos.copy()\n",
    "l_box = 75000.0\n",
    "for i in (-1,0,1):\n",
    "    for j in (-1,0,1):\n",
    "        for k in (-1,0,1):\n",
    "            new_pos = FOF_MW_pos.copy()\n",
    "            if(i):\n",
    "                new_pos[:,0] = new_pos[:,0] + i*l_box\n",
    "            if(j):\n",
    "                new_pos[:,1] = new_pos[:,1] + j*l_box\n",
    "            if(k):\n",
    "                new_pos[:,2] = new_pos[:,2] + k*l_box\n",
    "                \n",
    "            FOF_MW_pad_pos = append(FOF_MW_pad_pos, new_pos, axis=0)"
   ]
  },
  {
   "cell_type": "code",
   "execution_count": 83,
   "metadata": {
    "collapsed": false
   },
   "outputs": [
    {
     "name": "stdout",
     "output_type": "stream",
     "text": [
      "[  92183.21875   135392.546875  146386.8125  ]\n",
      "[  92183.21484375  135392.546875    146386.8046875 ]\n"
     ]
    }
   ],
   "source": [
    "print FOF_MW_pad_pos[-1,:]\n",
    "print FOF_MW_pos[-1,:]+75000"
   ]
  },
  {
   "cell_type": "code",
   "execution_count": null,
   "metadata": {
    "collapsed": false
   },
   "outputs": [],
   "source": [
    "n_pad_MW = size(FOF_MW_pad_pos[:,0])\n",
    "diff = FOF_MW_pad_pos.reshape(n_pad_MW,1,3) - FOF_MW_pad_pos\n",
    "D = (diff**2).sum(2)\n",
    "i = range(n_pad_MW)\n",
    "D[i,i] = inf\n",
    "i = argmin(D,1)"
   ]
  },
  {
   "cell_type": "code",
   "execution_count": null,
   "metadata": {
    "collapsed": false
   },
   "outputs": [],
   "source": [
    "print D[:3][:3]"
   ]
  },
  {
   "cell_type": "code",
   "execution_count": 59,
   "metadata": {
    "collapsed": false
   },
   "outputs": [
    {
     "data": {
      "text/plain": [
       "[<matplotlib.lines.Line2D at 0x1081dd550>]"
      ]
     },
     "execution_count": 59,
     "metadata": {},
     "output_type": "execute_result"
    },
    {
     "data": {
      "image/png": "[encoded data removed]",
      "text/plain": [
       "<matplotlib.figure.Figure at 0x106c3f610>"
      ]
     },
     "metadata": {},
     "output_type": "display_data"
    }
   ],
   "source": [
    "plot(sqrt(amin(D,1)/1000))"
   ]
  },
  {
   "cell_type": "code",
   "execution_count": 44,
   "metadata": {
    "collapsed": false
   },
   "outputs": [
    {
     "name": "stdout",
     "output_type": "stream",
     "text": [
      "(array([ 0, 87]),)\n"
     ]
    }
   ],
   "source": [
    "print where(corr==0)"
   ]
  },
  {
   "cell_type": "code",
   "execution_count": null,
   "metadata": {
    "collapsed": true
   },
   "outputs": [],
   "source": []
  }
 ],
 "metadata": {
  "kernelspec": {
   "display_name": "Python 2",
   "language": "python",
   "name": "python2"
  },
  "language_info": {
   "codemirror_mode": {
    "name": "ipython",
    "version": 2
   },
   "file_extension": ".py",
   "mimetype": "text/x-python",
   "name": "python",
   "nbconvert_exporter": "python",
   "pygments_lexer": "ipython2",
   "version": "2.7.1"
  }
 },
 "nbformat": 4,
 "nbformat_minor": 0
}
